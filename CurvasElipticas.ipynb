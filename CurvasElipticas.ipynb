{
 "cells": [
  {
   "cell_type": "markdown",
   "id": "203c8e2f-88a0-4b93-b8ea-f45f076d121a",
   "metadata": {
    "id": "kHzG5E-UDEgX"
   },
   "source": [
    "# Curvas elípticas\n",
    "\n",
    "<div class='def'>\n",
    "<strong>Definición</strong> <em>[Curva cúbica afín plana sobre el campo $\\mathbb{F}$]</em>\n",
    "\n",
    "Sea $\\mathbb{F}$ un campo con característica diferente de dos y de tres. Sean $a_1$, $a_2$, $a_3$, $a_4$ y $a_6$ $\\in \\mathbb{F}$, entonces el conjunto \n",
    "    \n",
    "$$C(\\mathbb{F}) = \\left\\{(x,y)\\in\\mathbb{F}^2 \\mid y^2 +a_1xy +a_3y = x^3+a_2x^2+a_4x +a_6\\right\\}$$\n",
    "\n",
    "es llamado una **curva cúbica afín plana sobre $\\mathbb{F}$**\n",
    "    \n",
    "</div>\n",
    "\n",
    "Se puede realizar un cambio de variable para llevar la curva cúbica a la forma\n",
    "\n",
    "$$C(\\mathbb{F}) = \\left\\{(x,y)\\in\\mathbb{F}^2 \\mid y^2 = x^3+ ax +b\\right\\}$$\n",
    "\n",
    "con $a$, $b$ $\\in \\mathbb{F}$, esta forma se comoce como **Forma de Weierstrass**\n",
    "\n",
    "- Si $4a^3+27b^2\\neq 0$ (discriminate diferente de cero $-4a^3-27b^2\\neq 0$) se asegura que $C(\\mathbb{F})$ es **suave**\n",
    "\n",
    "<div class='def'>\n",
    "<strong>Definición</strong> <em>[Curva elíptica]</em>\n",
    "\n",
    "Sea $\\mathbb{F}$ un campo con característica diferente de dos y de tres. Sean $a$, $b$ $\\in \\mathbb{F}$, entonces el conjunto \n",
    "    \n",
    "$$E(\\mathbb{F}) = \\left\\{(x,y)\\in\\mathbb{F}^2 \\mid y^2 = x^3+ax +b\\right\\}$$\n",
    "\n",
    "donde $4a^3+27b^2\\neq 0$ es llamado  **curva elíptica**\n",
    "    \n",
    "</div>\n"
   ]
  },
  {
   "cell_type": "code",
   "execution_count": 78,
   "id": "2513520e-1cae-42cd-b0af-9ad119b5fb4b",
   "metadata": {},
   "outputs": [],
   "source": [
    "from IPython.display import IFrame"
   ]
  },
  {
   "cell_type": "code",
   "execution_count": 79,
   "id": "1a9cd195-68dd-4911-8ce5-9017ceed709b",
   "metadata": {},
   "outputs": [
    {
     "data": {
      "text/html": [
       "\n",
       "        <iframe\n",
       "            width=\"700\"\n",
       "            height=\"350\"\n",
       "            src=\"https://www.desmos.com/calculator/fnyr2e327s\"\n",
       "            frameborder=\"0\"\n",
       "            allowfullscreen\n",
       "            \n",
       "        ></iframe>\n",
       "        "
      ],
      "text/plain": [
       "<IPython.lib.display.IFrame at 0x7fa762a9ae80>"
      ]
     },
     "execution_count": 79,
     "metadata": {},
     "output_type": "execute_result"
    }
   ],
   "source": [
    "IFrame('https://www.desmos.com/calculator/fnyr2e327s', width=700, height=350)"
   ]
  },
  {
   "cell_type": "markdown",
   "id": "4d3beba3-7376-45f3-bfbd-3783e685db5b",
   "metadata": {},
   "source": [
    "Las anteriores gráficas son diferentes curvas elípticas sobre los reales. \n",
    "\n",
    "**Revisa la actividad de SageMath**\n",
    "\n",
    "Se define el siguiente conjunto\n",
    "\n",
    "$$\\overline{E}\\left(\\mathbb{F}\\right)=E\\left(\\mathbb{F}\\right)\\cup\\mathcal{O}$$\n",
    "\n",
    "\n",
    "A continuación se dan las reglas operación en el conjunto $\\overline{E}\\left(\\mathbb{F}\\right)$ (que tiene interpretación geometrica en curvas elípticas sobre $\\mathbb{R}$)\n",
    "\n",
    "- Se utiliza el símbolo $+$ para denotar a la operación\n",
    "\n",
    "Se define lo siguiente:\n",
    "\n",
    "\n",
    "1. $P + \\mathcal{O} = \\mathcal{O} + P = P$, $\\forall P\\in \\overline{E}\\left(\\mathbb{F}\\right)$\n",
    "\n",
    "2. Si $P = (x,y)$ su inverso aditivo es $-P =(x,-y)$  con $ P + (-P) = \\mathcal{O}$, además $\\mathcal{O} = - \\mathcal{O}$ \n",
    "\n",
    "\n",
    "\n",
    "Ahora, si la operación a realizar no cae en las definiciones anteriores, entonces se aplican las siguientes reglas. \n",
    "\n",
    "Sea $P_1 = (x_1,y_1)$, $P_2=(x_2,y_2)$ y la suma se anota como $P_1+P_2 = (x_3,y_3)$ \n",
    "\n",
    "\n",
    "3. Si $x_1\\neq x_2$, entonces $P_1+P_2 = (x_3,y_3)$ con \n",
    "\n",
    "\n",
    "$$\n",
    "\\begin{aligned}\n",
    "x_{3}=\\left[s^{2}-x_{1}-x_{2}\\right]\\\\\n",
    "y_{3}=\\left[s \\cdot\\left(x_{1}-x_{3}\\right)-y_{1} \\right], \\\\\n",
    "\\text { donde } s =\\left[\\frac{y_{2}-y_{1}}{x_{2}-x_{1}} \\right] .\n",
    "\\end{aligned}\n",
    "$$\n",
    "\n",
    "       \n",
    "4. Si $x_1=x_2$ pero $y_1\\neq y_2$ entonces $P_1 + P_2 = \\mathcal{O}$     \n",
    "\n",
    "5. Si $P_1 = P_2$ y $y_1\\neq 0$, entonces $P_1+P_2 =2P_1 = (x_3,y_3)$ con \n",
    "\n",
    "$$\n",
    "\\begin{aligned}\n",
    "x_{3} =\\left[s^{2}-x_{1}-x_{2} \\right] \\\\\n",
    "y_{3}=\\left[s\\cdot\\left(x_{1}-x_{3}\\right)-y_{1} \\right], \\\\\n",
    "\\text { donde } s =\\left[\\frac{3x_{1}^2+3}{2y_1} \\right] .\n",
    "\\end{aligned}\n",
    "$$\n",
    "\n",
    "6. Si $P_1=P_2$ y $y_1=0$ entonces $P_1+P_2=\\mathcal{O}$      \n",
    "\n",
    "\n",
    "\n",
    "\n",
    "\n",
    "Se sabe que con la operación antes definida $+:\\overline{E}\\left(\\mathbb{F}\\right)\\times \\overline{E}\\left(\\mathbb{F}\\right)\\rightarrow \\overline{E}\\left(\\mathbb{F}\\right)$, la tupla $(\\overline{E}\\left(\\mathbb{F}\\right),+)$ es un grupo. \n",
    "    \n",
    "$\\left(\\overline{E}(\\mathbb{F}),+\\right)$ es llamado **grupo de curva elíptica** de la curva elíptica $E\\left(\\mathbb{F}\\right)$. \n",
    "\n",
    "\n"
   ]
  },
  {
   "cell_type": "markdown",
   "id": "30428611-4375-451d-be71-a698b6716a4d",
   "metadata": {
    "id": "kHzG5E-UDEgX"
   },
   "source": [
    "Grupos importantes en critografía son los que consisten en _puntos de curvas elípticas_. Son importantes pues en contraste a $\\mathbb{Z}_p^*$, actualmente no se conocen algoritmos de tiempo subexponencial para resolver el problema del logaritmo discreto en grupos de curvas elípticas elegidos apropiadamente.\n",
    "\n",
    "\n",
    "$$\n",
    "\\overline{E}\\left(\\mathbb{Z}_{p}\\right) \\stackrel{\\text { def }}{=}\\left\\{(x, y) \\mid x, y \\in \\mathbb{Z}_{p} \\text { y } y^{2}=x^{3}+a x+b \\bmod p\\right\\} \\cup\\{\\mathcal{O}\\}\n",
    "$$\n",
    "\n",
    "**Realizar actividad 37**"
   ]
  },
  {
   "cell_type": "markdown",
   "id": "45b917d4-9522-46fc-8c3d-8d77b89e5cc3",
   "metadata": {},
   "source": [
    "\n",
    "<div class=\"eje\">\n",
    "\n",
    "<strong>Ejemplo:</strong>\n",
    "\n",
    "$$\n",
    "\\overline{E}\\left(\\mathbb{Z}_{19}\\right) =\\left\\{(x, y) \\mid x, y \\in \\mathbb{Z}_{19}, y^{2}=x^{3}+x+6 \\bmod 19\\right\\} \\cup\\{\\mathcal{O}\\}\n",
    "$$\n",
    "    \n",
    "<p>\n",
    "</p>\n",
    "            \n",
    "</div>\n",
    "\n",
    " "
   ]
  },
  {
   "cell_type": "code",
   "execution_count": 2,
   "id": "71e85d64-17d6-4bfb-a8a9-7c4689bbfdd1",
   "metadata": {},
   "outputs": [],
   "source": [
    "import sympy as sp\n",
    "from sympy.ntheory.elliptic_curve import EllipticCurve, EllipticCurvePoint"
   ]
  },
  {
   "cell_type": "code",
   "execution_count": 34,
   "id": "3a346625-e327-4f9e-b1bb-5ae6072bace5",
   "metadata": {},
   "outputs": [],
   "source": [
    "e = EllipticCurve(1,6,modulus = 19)"
   ]
  },
  {
   "cell_type": "code",
   "execution_count": 41,
   "id": "44e45cac-2662-41d8-aa7e-176a3dfdb5cb",
   "metadata": {},
   "outputs": [],
   "source": [
    "def discriminante(a,b,p):\n",
    "    return (-4*a**3 - 27*b**2 ) % p\n",
    "\n"
   ]
  },
  {
   "cell_type": "code",
   "execution_count": 42,
   "id": "032ac6d3-d7b0-493c-9d10-38084cb12978",
   "metadata": {},
   "outputs": [
    {
     "data": {
      "text/plain": [
       "12"
      ]
     },
     "execution_count": 42,
     "metadata": {},
     "output_type": "execute_result"
    }
   ],
   "source": [
    "discriminante(1,6,19)"
   ]
  },
  {
   "cell_type": "code",
   "execution_count": 13,
   "id": "83e504ea-8fc7-4f57-b93d-b8bc82abd5da",
   "metadata": {},
   "outputs": [
    {
     "name": "stdout",
     "output_type": "stream",
     "text": [
      "{(2, 4), (6, 0), (18, 17), (4, 13), (4, 6), (12, 13), (14, 16), (3, 13), (10, 16), (12, 6), (14, 3), (0, 5), (3, 6), (18, 2), (2, 15), (0, 14), (10, 3)} <class 'set'>\n"
     ]
    }
   ],
   "source": [
    "puntos = e.points()\n",
    "\n",
    "print(puntos,type(puntos))\n",
    "p = list(puntos)\n",
    "xn = [c[0] for c in puntos]\n",
    "yn = [c[1] for c in puntos]"
   ]
  },
  {
   "cell_type": "code",
   "execution_count": 5,
   "id": "d90ce830-41d5-4c06-8f3f-fb9b8fa2f419",
   "metadata": {},
   "outputs": [
    {
     "name": "stdout",
     "output_type": "stream",
     "text": [
      "Curva en los reales\n"
     ]
    },
    {
     "data": {
      "image/png": "[encoded data removed]",
      "text/plain": [
       "<Figure size 432x288 with 1 Axes>"
      ]
     },
     "metadata": {
      "needs_background": "light"
     },
     "output_type": "display_data"
    }
   ],
   "source": [
    "x = sp.symbols('x')\n",
    "y = sp.symbols('y')\n",
    "\n",
    "\n",
    "print(\"Curva en los reales\")\n",
    "p1 = sp.plot_implicit(sp.Eq(y**2, x**3+x+6),(x,-5,20), (y,-50,50))\n"
   ]
  },
  {
   "cell_type": "code",
   "execution_count": 8,
   "id": "30a554b1-f761-4a7a-85fa-3b58298ad3ce",
   "metadata": {},
   "outputs": [
    {
     "name": "stdout",
     "output_type": "stream",
     "text": [
      "La curva en Z_19 son los puntos \n"
     ]
    },
    {
     "data": {
      "image/png": "[encoded data removed]",
      "text/plain": [
       "<Figure size 432x288 with 1 Axes>"
      ]
     },
     "metadata": {
      "needs_background": "light"
     },
     "output_type": "display_data"
    }
   ],
   "source": [
    "from sympy.plotting.plot import MatplotlibBackend, Plot\n",
    "\n",
    "def get_sympy_subplots(plot: Plot):\n",
    "    backend = MatplotlibBackend(plot)\n",
    "\n",
    "    backend.process_series()\n",
    "    backend.fig.tight_layout()\n",
    "    return backend.fig, backend.ax[0]\n",
    "\n",
    "#p = sp.plot(x, x**2, show=False)\n",
    "fig, axe = get_sympy_subplots(p1)\n",
    "\n",
    "print(\"La curva en Z_19 son los puntos \")\n",
    "\n",
    "# add additional plots\n",
    "_ = axe.plot(xn, yn, \"o\")\n",
    "#fig.show()"
   ]
  },
  {
   "cell_type": "markdown",
   "id": "6144ed20-140d-4011-b6fc-51c0fb9dfdc8",
   "metadata": {},
   "source": [
    "<div class=\"eje\">\n",
    "\n",
    "<strong>Ejemplo:</strong>\n",
    "\n",
    "$$\n",
    "\\overline{E}\\left(\\mathbb{Z}_{7}\\right) =\\left\\{(x, y) \\mid x, y \\in \\mathbb{Z}_{7}, y^{2}=x^{3}+3x+3 \\bmod 7\\right\\} \\cup\\{\\mathcal{O}\\}\n",
    "$$\n",
    "    \n",
    "<p>\n",
    "</p>\n",
    "            \n",
    "</div>"
   ]
  },
  {
   "cell_type": "code",
   "execution_count": 43,
   "id": "3f5dd795-9c61-471c-b98b-6c85ee748d29",
   "metadata": {},
   "outputs": [
    {
     "name": "stdout",
     "output_type": "stream",
     "text": [
      "el discriminate de la curva es 6\n",
      "{(4, 4), (4, 3), (1, 0), (3, 2), (3, 5)} <class 'set'>\n"
     ]
    }
   ],
   "source": [
    "e = EllipticCurve(3,3,modulus = 7)\n",
    "\n",
    "print(\"el discriminate de la curva es\", discriminante(3,3,7))\n",
    "\n",
    "puntos = e.points()\n",
    "\n",
    "print(puntos, type(puntos))"
   ]
  },
  {
   "cell_type": "code",
   "execution_count": 17,
   "id": "3d817246-df75-4dc3-8780-edf35bf02674",
   "metadata": {},
   "outputs": [],
   "source": [
    "xn = [p[0] for p in puntos]\n",
    "yn = [p[1] for p in puntos]"
   ]
  },
  {
   "cell_type": "code",
   "execution_count": 24,
   "id": "2e2de287-c1c7-46fd-94cd-847a3fa0cac5",
   "metadata": {},
   "outputs": [],
   "source": [
    "import plotly.express as px\n"
   ]
  },
  {
   "cell_type": "code",
   "execution_count": 27,
   "id": "e8ca6a43-5108-4c0b-a70e-a0db8ce8ea1c",
   "metadata": {},
   "outputs": [
    {
     "data": {
      "application/vnd.plotly.v1+json": {
       "config": {
        "plotlyServerURL": "https://plot.ly"
       },
       "data": [
        {
         "hovertemplate": "x=%{x}<br>y=%{y}<extra></extra>",
         "legendgroup": "",
         "marker": {
          "color": "#636efa",
          "symbol": "circle"
         },
         "mode": "markers",
         "name": "",
         "orientation": "v",
         "showlegend": false,
         "type": "scatter",
         "x": [
          4,
          4,
          1,
          3,
          3
         ],
         "xaxis": "x",
         "y": [
          4,
          3,
          0,
          2,
          5
         ],
         "yaxis": "y"
        }
       ],
       "layout": {
        "autosize": true,
        "legend": {
         "tracegroupgap": 0
        },
        "margin": {
         "t": 60
        },
        "template": {
         "data": {
          "bar": [
           {
            "error_x": {
             "color": "#2a3f5f"
            },
            "error_y": {
             "color": "#2a3f5f"
            },
            "marker": {
             "line": {
              "color": "#E5ECF6",
              "width": 0.5
             }
            },
            "type": "bar"
           }
          ],
          "barpolar": [
           {
            "marker": {
             "line": {
              "color": "#E5ECF6",
              "width": 0.5
             }
            },
            "type": "barpolar"
           }
          ],
          "carpet": [
           {
            "aaxis": {
             "endlinecolor": "#2a3f5f",
             "gridcolor": "white",
             "linecolor": "white",
             "minorgridcolor": "white",
             "startlinecolor": "#2a3f5f"
            },
            "baxis": {
             "endlinecolor": "#2a3f5f",
             "gridcolor": "white",
             "linecolor": "white",
             "minorgridcolor": "white",
             "startlinecolor": "#2a3f5f"
            },
            "type": "carpet"
           }
          ],
          "choropleth": [
           {
            "colorbar": {
             "outlinewidth": 0,
             "ticks": ""
            },
            "type": "choropleth"
           }
          ],
          "contour": [
           {
            "colorbar": {
             "outlinewidth": 0,
             "ticks": ""
            },
            "colorscale": [
             [
              0,
              "#0d0887"
             ],
             [
              0.1111111111111111,
              "#46039f"
             ],
             [
              0.2222222222222222,
              "#7201a8"
             ],
             [
              0.3333333333333333,
              "#9c179e"
             ],
             [
              0.4444444444444444,
              "#bd3786"
             ],
             [
              0.5555555555555556,
              "#d8576b"
             ],
             [
              0.6666666666666666,
              "#ed7953"
             ],
             [
              0.7777777777777778,
              "#fb9f3a"
             ],
             [
              0.8888888888888888,
              "#fdca26"
             ],
             [
              1,
              "#f0f921"
             ]
            ],
            "type": "contour"
           }
          ],
          "contourcarpet": [
           {
            "colorbar": {
             "outlinewidth": 0,
             "ticks": ""
            },
            "type": "contourcarpet"
           }
          ],
          "heatmap": [
           {
            "colorbar": {
             "outlinewidth": 0,
             "ticks": ""
            },
            "colorscale": [
             [
              0,
              "#0d0887"
             ],
             [
              0.1111111111111111,
              "#46039f"
             ],
             [
              0.2222222222222222,
              "#7201a8"
             ],
             [
              0.3333333333333333,
              "#9c179e"
             ],
             [
              0.4444444444444444,
              "#bd3786"
             ],
             [
              0.5555555555555556,
              "#d8576b"
             ],
             [
              0.6666666666666666,
              "#ed7953"
             ],
             [
              0.7777777777777778,
              "#fb9f3a"
             ],
             [
              0.8888888888888888,
              "#fdca26"
             ],
             [
              1,
              "#f0f921"
             ]
            ],
            "type": "heatmap"
           }
          ],
          "heatmapgl": [
           {
            "colorbar": {
             "outlinewidth": 0,
             "ticks": ""
            },
            "colorscale": [
             [
              0,
              "#0d0887"
             ],
             [
              0.1111111111111111,
              "#46039f"
             ],
             [
              0.2222222222222222,
              "#7201a8"
             ],
             [
              0.3333333333333333,
              "#9c179e"
             ],
             [
              0.4444444444444444,
              "#bd3786"
             ],
             [
              0.5555555555555556,
              "#d8576b"
             ],
             [
              0.6666666666666666,
              "#ed7953"
             ],
             [
              0.7777777777777778,
              "#fb9f3a"
             ],
             [
              0.8888888888888888,
              "#fdca26"
             ],
             [
              1,
              "#f0f921"
             ]
            ],
            "type": "heatmapgl"
           }
          ],
          "histogram": [
           {
            "marker": {
             "colorbar": {
              "outlinewidth": 0,
              "ticks": ""
             }
            },
            "type": "histogram"
           }
          ],
          "histogram2d": [
           {
            "colorbar": {
             "outlinewidth": 0,
             "ticks": ""
            },
            "colorscale": [
             [
              0,
              "#0d0887"
             ],
             [
              0.1111111111111111,
              "#46039f"
             ],
             [
              0.2222222222222222,
              "#7201a8"
             ],
             [
              0.3333333333333333,
              "#9c179e"
             ],
             [
              0.4444444444444444,
              "#bd3786"
             ],
             [
              0.5555555555555556,
              "#d8576b"
             ],
             [
              0.6666666666666666,
              "#ed7953"
             ],
             [
              0.7777777777777778,
              "#fb9f3a"
             ],
             [
              0.8888888888888888,
              "#fdca26"
             ],
             [
              1,
              "#f0f921"
             ]
            ],
            "type": "histogram2d"
           }
          ],
          "histogram2dcontour": [
           {
            "colorbar": {
             "outlinewidth": 0,
             "ticks": ""
            },
            "colorscale": [
             [
              0,
              "#0d0887"
             ],
             [
              0.1111111111111111,
              "#46039f"
             ],
             [
              0.2222222222222222,
              "#7201a8"
             ],
             [
              0.3333333333333333,
              "#9c179e"
             ],
             [
              0.4444444444444444,
              "#bd3786"
             ],
             [
              0.5555555555555556,
              "#d8576b"
             ],
             [
              0.6666666666666666,
              "#ed7953"
             ],
             [
              0.7777777777777778,
              "#fb9f3a"
             ],
             [
              0.8888888888888888,
              "#fdca26"
             ],
             [
              1,
              "#f0f921"
             ]
            ],
            "type": "histogram2dcontour"
           }
          ],
          "mesh3d": [
           {
            "colorbar": {
             "outlinewidth": 0,
             "ticks": ""
            },
            "type": "mesh3d"
           }
          ],
          "parcoords": [
           {
            "line": {
             "colorbar": {
              "outlinewidth": 0,
              "ticks": ""
             }
            },
            "type": "parcoords"
           }
          ],
          "pie": [
           {
            "automargin": true,
            "type": "pie"
           }
          ],
          "scatter": [
           {
            "marker": {
             "colorbar": {
              "outlinewidth": 0,
              "ticks": ""
             }
            },
            "type": "scatter"
           }
          ],
          "scatter3d": [
           {
            "line": {
             "colorbar": {
              "outlinewidth": 0,
              "ticks": ""
             }
            },
            "marker": {
             "colorbar": {
              "outlinewidth": 0,
              "ticks": ""
             }
            },
            "type": "scatter3d"
           }
          ],
          "scattercarpet": [
           {
            "marker": {
             "colorbar": {
              "outlinewidth": 0,
              "ticks": ""
             }
            },
            "type": "scattercarpet"
           }
          ],
          "scattergeo": [
           {
            "marker": {
             "colorbar": {
              "outlinewidth": 0,
              "ticks": ""
             }
            },
            "type": "scattergeo"
           }
          ],
          "scattergl": [
           {
            "marker": {
             "colorbar": {
              "outlinewidth": 0,
              "ticks": ""
             }
            },
            "type": "scattergl"
           }
          ],
          "scattermapbox": [
           {
            "marker": {
             "colorbar": {
              "outlinewidth": 0,
              "ticks": ""
             }
            },
            "type": "scattermapbox"
           }
          ],
          "scatterpolar": [
           {
            "marker": {
             "colorbar": {
              "outlinewidth": 0,
              "ticks": ""
             }
            },
            "type": "scatterpolar"
           }
          ],
          "scatterpolargl": [
           {
            "marker": {
             "colorbar": {
              "outlinewidth": 0,
              "ticks": ""
             }
            },
            "type": "scatterpolargl"
           }
          ],
          "scatterternary": [
           {
            "marker": {
             "colorbar": {
              "outlinewidth": 0,
              "ticks": ""
             }
            },
            "type": "scatterternary"
           }
          ],
          "surface": [
           {
            "colorbar": {
             "outlinewidth": 0,
             "ticks": ""
            },
            "colorscale": [
             [
              0,
              "#0d0887"
             ],
             [
              0.1111111111111111,
              "#46039f"
             ],
             [
              0.2222222222222222,
              "#7201a8"
             ],
             [
              0.3333333333333333,
              "#9c179e"
             ],
             [
              0.4444444444444444,
              "#bd3786"
             ],
             [
              0.5555555555555556,
              "#d8576b"
             ],
             [
              0.6666666666666666,
              "#ed7953"
             ],
             [
              0.7777777777777778,
              "#fb9f3a"
             ],
             [
              0.8888888888888888,
              "#fdca26"
             ],
             [
              1,
              "#f0f921"
             ]
            ],
            "type": "surface"
           }
          ],
          "table": [
           {
            "cells": {
             "fill": {
              "color": "#EBF0F8"
             },
             "line": {
              "color": "white"
             }
            },
            "header": {
             "fill": {
              "color": "#C8D4E3"
             },
             "line": {
              "color": "white"
             }
            },
            "type": "table"
           }
          ]
         },
         "layout": {
          "annotationdefaults": {
           "arrowcolor": "#2a3f5f",
           "arrowhead": 0,
           "arrowwidth": 1
          },
          "autotypenumbers": "strict",
          "coloraxis": {
           "colorbar": {
            "outlinewidth": 0,
            "ticks": ""
           }
          },
          "colorscale": {
           "diverging": [
            [
             0,
             "#8e0152"
            ],
            [
             0.1,
             "#c51b7d"
            ],
            [
             0.2,
             "#de77ae"
            ],
            [
             0.3,
             "#f1b6da"
            ],
            [
             0.4,
             "#fde0ef"
            ],
            [
             0.5,
             "#f7f7f7"
            ],
            [
             0.6,
             "#e6f5d0"
            ],
            [
             0.7,
             "#b8e186"
            ],
            [
             0.8,
             "#7fbc41"
            ],
            [
             0.9,
             "#4d9221"
            ],
            [
             1,
             "#276419"
            ]
           ],
           "sequential": [
            [
             0,
             "#0d0887"
            ],
            [
             0.1111111111111111,
             "#46039f"
            ],
            [
             0.2222222222222222,
             "#7201a8"
            ],
            [
             0.3333333333333333,
             "#9c179e"
            ],
            [
             0.4444444444444444,
             "#bd3786"
            ],
            [
             0.5555555555555556,
             "#d8576b"
            ],
            [
             0.6666666666666666,
             "#ed7953"
            ],
            [
             0.7777777777777778,
             "#fb9f3a"
            ],
            [
             0.8888888888888888,
             "#fdca26"
            ],
            [
             1,
             "#f0f921"
            ]
           ],
           "sequentialminus": [
            [
             0,
             "#0d0887"
            ],
            [
             0.1111111111111111,
             "#46039f"
            ],
            [
             0.2222222222222222,
             "#7201a8"
            ],
            [
             0.3333333333333333,
             "#9c179e"
            ],
            [
             0.4444444444444444,
             "#bd3786"
            ],
            [
             0.5555555555555556,
             "#d8576b"
            ],
            [
             0.6666666666666666,
             "#ed7953"
            ],
            [
             0.7777777777777778,
             "#fb9f3a"
            ],
            [
             0.8888888888888888,
             "#fdca26"
            ],
            [
             1,
             "#f0f921"
            ]
           ]
          },
          "colorway": [
           "#636efa",
           "#EF553B",
           "#00cc96",
           "#ab63fa",
           "#FFA15A",
           "#19d3f3",
           "#FF6692",
           "#B6E880",
           "#FF97FF",
           "#FECB52"
          ],
          "font": {
           "color": "#2a3f5f"
          },
          "geo": {
           "bgcolor": "white",
           "lakecolor": "white",
           "landcolor": "#E5ECF6",
           "showlakes": true,
           "showland": true,
           "subunitcolor": "white"
          },
          "hoverlabel": {
           "align": "left"
          },
          "hovermode": "closest",
          "mapbox": {
           "style": "light"
          },
          "paper_bgcolor": "white",
          "plot_bgcolor": "#E5ECF6",
          "polar": {
           "angularaxis": {
            "gridcolor": "white",
            "linecolor": "white",
            "ticks": ""
           },
           "bgcolor": "#E5ECF6",
           "radialaxis": {
            "gridcolor": "white",
            "linecolor": "white",
            "ticks": ""
           }
          },
          "scene": {
           "xaxis": {
            "backgroundcolor": "#E5ECF6",
            "gridcolor": "white",
            "gridwidth": 2,
            "linecolor": "white",
            "showbackground": true,
            "ticks": "",
            "zerolinecolor": "white"
           },
           "yaxis": {
            "backgroundcolor": "#E5ECF6",
            "gridcolor": "white",
            "gridwidth": 2,
            "linecolor": "white",
            "showbackground": true,
            "ticks": "",
            "zerolinecolor": "white"
           },
           "zaxis": {
            "backgroundcolor": "#E5ECF6",
            "gridcolor": "white",
            "gridwidth": 2,
            "linecolor": "white",
            "showbackground": true,
            "ticks": "",
            "zerolinecolor": "white"
           }
          },
          "shapedefaults": {
           "line": {
            "color": "#2a3f5f"
           }
          },
          "ternary": {
           "aaxis": {
            "gridcolor": "white",
            "linecolor": "white",
            "ticks": ""
           },
           "baxis": {
            "gridcolor": "white",
            "linecolor": "white",
            "ticks": ""
           },
           "bgcolor": "#E5ECF6",
           "caxis": {
            "gridcolor": "white",
            "linecolor": "white",
            "ticks": ""
           }
          },
          "title": {
           "x": 0.05
          },
          "xaxis": {
           "automargin": true,
           "gridcolor": "white",
           "linecolor": "white",
           "ticks": "",
           "title": {
            "standoff": 15
           },
           "zerolinecolor": "white",
           "zerolinewidth": 2
          },
          "yaxis": {
           "automargin": true,
           "gridcolor": "white",
           "linecolor": "white",
           "ticks": "",
           "title": {
            "standoff": 15
           },
           "zerolinecolor": "white",
           "zerolinewidth": 2
          }
         }
        },
        "xaxis": {
         "anchor": "y",
         "autorange": true,
         "domain": [
          0,
          1
         ],
         "range": [
          0.8152880034647033,
          4.184711996535297
         ],
         "title": {
          "text": "x"
         },
         "type": "linear"
        },
        "yaxis": {
         "anchor": "x",
         "autorange": true,
         "domain": [
          0,
          1
         ],
         "range": [
          -0.35451197053407,
          5.35451197053407
         ],
         "title": {
          "text": "y"
         },
         "type": "linear"
        }
       }
      },
      "image/png": "[encoded data removed]",
      "text/html": [
       "<div>                            <div id=\"fb9226ce-8c8b-4d1b-a874-85c4a4512498\" class=\"plotly-graph-div\" style=\"height:525px; width:100%;\"></div>            <script type=\"text/javascript\">                require([\"plotly\"], function(Plotly) {                    window.PLOTLYENV=window.PLOTLYENV || {};                                    if (document.getElementById(\"fb9226ce-8c8b-4d1b-a874-85c4a4512498\")) {                    Plotly.newPlot(                        \"fb9226ce-8c8b-4d1b-a874-85c4a4512498\",                        [{\"hovertemplate\": \"x=%{x}<br>y=%{y}<extra></extra>\", \"legendgroup\": \"\", \"marker\": {\"color\": \"#636efa\", \"symbol\": \"circle\"}, \"mode\": \"markers\", \"name\": \"\", \"orientation\": \"v\", \"showlegend\": false, \"type\": \"scatter\", \"x\": [4, 4, 1, 3, 3], \"xaxis\": \"x\", \"y\": [4, 3, 0, 2, 5], \"yaxis\": \"y\"}],                        {\"legend\": {\"tracegroupgap\": 0}, \"margin\": {\"t\": 60}, \"template\": {\"data\": {\"bar\": [{\"error_x\": {\"color\": \"#2a3f5f\"}, \"error_y\": {\"color\": \"#2a3f5f\"}, \"marker\": {\"line\": {\"color\": \"#E5ECF6\", \"width\": 0.5}}, \"type\": \"bar\"}], \"barpolar\": [{\"marker\": {\"line\": {\"color\": \"#E5ECF6\", \"width\": 0.5}}, \"type\": \"barpolar\"}], \"carpet\": [{\"aaxis\": {\"endlinecolor\": \"#2a3f5f\", \"gridcolor\": \"white\", \"linecolor\": \"white\", \"minorgridcolor\": \"white\", \"startlinecolor\": \"#2a3f5f\"}, \"baxis\": {\"endlinecolor\": \"#2a3f5f\", \"gridcolor\": \"white\", \"linecolor\": \"white\", \"minorgridcolor\": \"white\", \"startlinecolor\": \"#2a3f5f\"}, \"type\": \"carpet\"}], \"choropleth\": [{\"colorbar\": {\"outlinewidth\": 0, \"ticks\": \"\"}, \"type\": \"choropleth\"}], \"contour\": [{\"colorbar\": {\"outlinewidth\": 0, \"ticks\": \"\"}, \"colorscale\": [[0.0, \"#0d0887\"], [0.1111111111111111, \"#46039f\"], [0.2222222222222222, \"#7201a8\"], [0.3333333333333333, \"#9c179e\"], [0.4444444444444444, \"#bd3786\"], [0.5555555555555556, \"#d8576b\"], [0.6666666666666666, \"#ed7953\"], [0.7777777777777778, \"#fb9f3a\"], [0.8888888888888888, \"#fdca26\"], [1.0, \"#f0f921\"]], \"type\": \"contour\"}], \"contourcarpet\": [{\"colorbar\": {\"outlinewidth\": 0, \"ticks\": \"\"}, \"type\": \"contourcarpet\"}], \"heatmap\": [{\"colorbar\": {\"outlinewidth\": 0, \"ticks\": \"\"}, \"colorscale\": [[0.0, \"#0d0887\"], [0.1111111111111111, \"#46039f\"], [0.2222222222222222, \"#7201a8\"], [0.3333333333333333, \"#9c179e\"], [0.4444444444444444, \"#bd3786\"], [0.5555555555555556, \"#d8576b\"], [0.6666666666666666, \"#ed7953\"], [0.7777777777777778, \"#fb9f3a\"], [0.8888888888888888, \"#fdca26\"], [1.0, \"#f0f921\"]], \"type\": \"heatmap\"}], \"heatmapgl\": [{\"colorbar\": {\"outlinewidth\": 0, \"ticks\": \"\"}, \"colorscale\": [[0.0, \"#0d0887\"], [0.1111111111111111, \"#46039f\"], [0.2222222222222222, \"#7201a8\"], [0.3333333333333333, \"#9c179e\"], [0.4444444444444444, \"#bd3786\"], [0.5555555555555556, \"#d8576b\"], [0.6666666666666666, \"#ed7953\"], [0.7777777777777778, \"#fb9f3a\"], [0.8888888888888888, \"#fdca26\"], [1.0, \"#f0f921\"]], \"type\": \"heatmapgl\"}], \"histogram\": [{\"marker\": {\"colorbar\": {\"outlinewidth\": 0, \"ticks\": \"\"}}, \"type\": \"histogram\"}], \"histogram2d\": [{\"colorbar\": {\"outlinewidth\": 0, \"ticks\": \"\"}, \"colorscale\": [[0.0, \"#0d0887\"], [0.1111111111111111, \"#46039f\"], [0.2222222222222222, \"#7201a8\"], [0.3333333333333333, \"#9c179e\"], [0.4444444444444444, \"#bd3786\"], [0.5555555555555556, \"#d8576b\"], [0.6666666666666666, \"#ed7953\"], [0.7777777777777778, \"#fb9f3a\"], [0.8888888888888888, \"#fdca26\"], [1.0, \"#f0f921\"]], \"type\": \"histogram2d\"}], \"histogram2dcontour\": [{\"colorbar\": {\"outlinewidth\": 0, \"ticks\": \"\"}, \"colorscale\": [[0.0, \"#0d0887\"], [0.1111111111111111, \"#46039f\"], [0.2222222222222222, \"#7201a8\"], [0.3333333333333333, \"#9c179e\"], [0.4444444444444444, \"#bd3786\"], [0.5555555555555556, \"#d8576b\"], [0.6666666666666666, \"#ed7953\"], [0.7777777777777778, \"#fb9f3a\"], [0.8888888888888888, \"#fdca26\"], [1.0, \"#f0f921\"]], \"type\": \"histogram2dcontour\"}], \"mesh3d\": [{\"colorbar\": {\"outlinewidth\": 0, \"ticks\": \"\"}, \"type\": \"mesh3d\"}], \"parcoords\": [{\"line\": {\"colorbar\": {\"outlinewidth\": 0, \"ticks\": \"\"}}, \"type\": \"parcoords\"}], \"pie\": [{\"automargin\": true, \"type\": \"pie\"}], \"scatter\": [{\"marker\": {\"colorbar\": {\"outlinewidth\": 0, \"ticks\": \"\"}}, \"type\": \"scatter\"}], \"scatter3d\": [{\"line\": {\"colorbar\": {\"outlinewidth\": 0, \"ticks\": \"\"}}, \"marker\": {\"colorbar\": {\"outlinewidth\": 0, \"ticks\": \"\"}}, \"type\": \"scatter3d\"}], \"scattercarpet\": [{\"marker\": {\"colorbar\": {\"outlinewidth\": 0, \"ticks\": \"\"}}, \"type\": \"scattercarpet\"}], \"scattergeo\": [{\"marker\": {\"colorbar\": {\"outlinewidth\": 0, \"ticks\": \"\"}}, \"type\": \"scattergeo\"}], \"scattergl\": [{\"marker\": {\"colorbar\": {\"outlinewidth\": 0, \"ticks\": \"\"}}, \"type\": \"scattergl\"}], \"scattermapbox\": [{\"marker\": {\"colorbar\": {\"outlinewidth\": 0, \"ticks\": \"\"}}, \"type\": \"scattermapbox\"}], \"scatterpolar\": [{\"marker\": {\"colorbar\": {\"outlinewidth\": 0, \"ticks\": \"\"}}, \"type\": \"scatterpolar\"}], \"scatterpolargl\": [{\"marker\": {\"colorbar\": {\"outlinewidth\": 0, \"ticks\": \"\"}}, \"type\": \"scatterpolargl\"}], \"scatterternary\": [{\"marker\": {\"colorbar\": {\"outlinewidth\": 0, \"ticks\": \"\"}}, \"type\": \"scatterternary\"}], \"surface\": [{\"colorbar\": {\"outlinewidth\": 0, \"ticks\": \"\"}, \"colorscale\": [[0.0, \"#0d0887\"], [0.1111111111111111, \"#46039f\"], [0.2222222222222222, \"#7201a8\"], [0.3333333333333333, \"#9c179e\"], [0.4444444444444444, \"#bd3786\"], [0.5555555555555556, \"#d8576b\"], [0.6666666666666666, \"#ed7953\"], [0.7777777777777778, \"#fb9f3a\"], [0.8888888888888888, \"#fdca26\"], [1.0, \"#f0f921\"]], \"type\": \"surface\"}], \"table\": [{\"cells\": {\"fill\": {\"color\": \"#EBF0F8\"}, \"line\": {\"color\": \"white\"}}, \"header\": {\"fill\": {\"color\": \"#C8D4E3\"}, \"line\": {\"color\": \"white\"}}, \"type\": \"table\"}]}, \"layout\": {\"annotationdefaults\": {\"arrowcolor\": \"#2a3f5f\", \"arrowhead\": 0, \"arrowwidth\": 1}, \"autotypenumbers\": \"strict\", \"coloraxis\": {\"colorbar\": {\"outlinewidth\": 0, \"ticks\": \"\"}}, \"colorscale\": {\"diverging\": [[0, \"#8e0152\"], [0.1, \"#c51b7d\"], [0.2, \"#de77ae\"], [0.3, \"#f1b6da\"], [0.4, \"#fde0ef\"], [0.5, \"#f7f7f7\"], [0.6, \"#e6f5d0\"], [0.7, \"#b8e186\"], [0.8, \"#7fbc41\"], [0.9, \"#4d9221\"], [1, \"#276419\"]], \"sequential\": [[0.0, \"#0d0887\"], [0.1111111111111111, \"#46039f\"], [0.2222222222222222, \"#7201a8\"], [0.3333333333333333, \"#9c179e\"], [0.4444444444444444, \"#bd3786\"], [0.5555555555555556, \"#d8576b\"], [0.6666666666666666, \"#ed7953\"], [0.7777777777777778, \"#fb9f3a\"], [0.8888888888888888, \"#fdca26\"], [1.0, \"#f0f921\"]], \"sequentialminus\": [[0.0, \"#0d0887\"], [0.1111111111111111, \"#46039f\"], [0.2222222222222222, \"#7201a8\"], [0.3333333333333333, \"#9c179e\"], [0.4444444444444444, \"#bd3786\"], [0.5555555555555556, \"#d8576b\"], [0.6666666666666666, \"#ed7953\"], [0.7777777777777778, \"#fb9f3a\"], [0.8888888888888888, \"#fdca26\"], [1.0, \"#f0f921\"]]}, \"colorway\": [\"#636efa\", \"#EF553B\", \"#00cc96\", \"#ab63fa\", \"#FFA15A\", \"#19d3f3\", \"#FF6692\", \"#B6E880\", \"#FF97FF\", \"#FECB52\"], \"font\": {\"color\": \"#2a3f5f\"}, \"geo\": {\"bgcolor\": \"white\", \"lakecolor\": \"white\", \"landcolor\": \"#E5ECF6\", \"showlakes\": true, \"showland\": true, \"subunitcolor\": \"white\"}, \"hoverlabel\": {\"align\": \"left\"}, \"hovermode\": \"closest\", \"mapbox\": {\"style\": \"light\"}, \"paper_bgcolor\": \"white\", \"plot_bgcolor\": \"#E5ECF6\", \"polar\": {\"angularaxis\": {\"gridcolor\": \"white\", \"linecolor\": \"white\", \"ticks\": \"\"}, \"bgcolor\": \"#E5ECF6\", \"radialaxis\": {\"gridcolor\": \"white\", \"linecolor\": \"white\", \"ticks\": \"\"}}, \"scene\": {\"xaxis\": {\"backgroundcolor\": \"#E5ECF6\", \"gridcolor\": \"white\", \"gridwidth\": 2, \"linecolor\": \"white\", \"showbackground\": true, \"ticks\": \"\", \"zerolinecolor\": \"white\"}, \"yaxis\": {\"backgroundcolor\": \"#E5ECF6\", \"gridcolor\": \"white\", \"gridwidth\": 2, \"linecolor\": \"white\", \"showbackground\": true, \"ticks\": \"\", \"zerolinecolor\": \"white\"}, \"zaxis\": {\"backgroundcolor\": \"#E5ECF6\", \"gridcolor\": \"white\", \"gridwidth\": 2, \"linecolor\": \"white\", \"showbackground\": true, \"ticks\": \"\", \"zerolinecolor\": \"white\"}}, \"shapedefaults\": {\"line\": {\"color\": \"#2a3f5f\"}}, \"ternary\": {\"aaxis\": {\"gridcolor\": \"white\", \"linecolor\": \"white\", \"ticks\": \"\"}, \"baxis\": {\"gridcolor\": \"white\", \"linecolor\": \"white\", \"ticks\": \"\"}, \"bgcolor\": \"#E5ECF6\", \"caxis\": {\"gridcolor\": \"white\", \"linecolor\": \"white\", \"ticks\": \"\"}}, \"title\": {\"x\": 0.05}, \"xaxis\": {\"automargin\": true, \"gridcolor\": \"white\", \"linecolor\": \"white\", \"ticks\": \"\", \"title\": {\"standoff\": 15}, \"zerolinecolor\": \"white\", \"zerolinewidth\": 2}, \"yaxis\": {\"automargin\": true, \"gridcolor\": \"white\", \"linecolor\": \"white\", \"ticks\": \"\", \"title\": {\"standoff\": 15}, \"zerolinecolor\": \"white\", \"zerolinewidth\": 2}}}, \"xaxis\": {\"anchor\": \"y\", \"domain\": [0.0, 1.0], \"title\": {\"text\": \"x\"}}, \"yaxis\": {\"anchor\": \"x\", \"domain\": [0.0, 1.0], \"title\": {\"text\": \"y\"}}},                        {\"responsive\": true}                    ).then(function(){\n",
       "                            \n",
       "var gd = document.getElementById('fb9226ce-8c8b-4d1b-a874-85c4a4512498');\n",
       "var x = new MutationObserver(function (mutations, observer) {{\n",
       "        var display = window.getComputedStyle(gd).display;\n",
       "        if (!display || display === 'none') {{\n",
       "            console.log([gd, 'removed!']);\n",
       "            Plotly.purge(gd);\n",
       "            observer.disconnect();\n",
       "        }}\n",
       "}});\n",
       "\n",
       "// Listen for the removal of the full notebook cells\n",
       "var notebookContainer = gd.closest('#notebook-container');\n",
       "if (notebookContainer) {{\n",
       "    x.observe(notebookContainer, {childList: true});\n",
       "}}\n",
       "\n",
       "// Listen for the clearing of the current output cell\n",
       "var outputEl = gd.closest('.output');\n",
       "if (outputEl) {{\n",
       "    x.observe(outputEl, {childList: true});\n",
       "}}\n",
       "\n",
       "                        })                };                });            </script>        </div>"
      ]
     },
     "metadata": {},
     "output_type": "display_data"
    }
   ],
   "source": [
    "fig = px.scatter(x = xn, y = yn)\n",
    "fig.show()"
   ]
  },
  {
   "cell_type": "code",
   "execution_count": 28,
   "id": "ac6608ab-0c11-47a6-8354-e22144e00d78",
   "metadata": {},
   "outputs": [
    {
     "data": {
      "text/latex": [
       "$\\displaystyle \\text{False}$"
      ],
      "text/plain": [
       "False"
      ]
     },
     "execution_count": 28,
     "metadata": {},
     "output_type": "execute_result"
    }
   ],
   "source": [
    "e.__contains__((4,4))"
   ]
  },
  {
   "cell_type": "markdown",
   "id": "e7b1c8ab-af7b-4319-a89f-2796cfabce6d",
   "metadata": {},
   "source": [
    "El módulo tiene un error de programación, pero se puede reescribir el método correspondiente\n"
   ]
  },
  {
   "cell_type": "code",
   "execution_count": 29,
   "id": "e2788013-d99c-4a9a-a40d-8bf04c067755",
   "metadata": {
    "id": "d66PVhfdDEgZ"
   },
   "outputs": [],
   "source": [
    "e = EllipticCurve(3,3,modulus = 7)\n",
    "e.points_x(4)\n",
    "#e.__contains__([4,4])\n",
    "\n",
    "class ec(EllipticCurve,EllipticCurvePoint):\n",
    "    def __init__(self, a4, a6, a1=0, a2=0, a3=0, modulus = 0):\n",
    "        super(ec, self).__init__(a4, a6, a1, a2, a3, modulus)\n",
    "        #EllipticCurve.__init__(self)\n",
    "    \n",
    "    \n",
    "    def __contains__(self, point):\n",
    "        #print('hola')\n",
    "        if sp.core.compatibility.is_sequence(point):\n",
    "            #print('hola')\n",
    "            if len(point) == 2:\n",
    "                z1 = 1\n",
    "            else:\n",
    "                z1 = point[2]\n",
    "            x1, y1 = point[:2]\n",
    "                \n",
    "        elif isinstance(point, EllipticCurvePoint):\n",
    "            x1, y1, z1 = point.x, point.y, point.z\n",
    "        else:\n",
    "            raise ValueError('Invalid point.')\n",
    "        if self.characteristic == 0 and z1 == 0:\n",
    "            return True\n",
    "        return (self._eq.lhs-self._eq.rhs).subs({self.x:x1,self.y: y1, self.z: z1})% self.modulus == 0\n",
    "    \n",
    "            \n",
    "e1 = ec(3,3,modulus = 7)"
   ]
  },
  {
   "cell_type": "code",
   "execution_count": 30,
   "id": "b023b541-ba5a-414b-a07f-81e674f0e4e7",
   "metadata": {},
   "outputs": [
    {
     "data": {
      "text/plain": [
       "True"
      ]
     },
     "execution_count": 30,
     "metadata": {},
     "output_type": "execute_result"
    }
   ],
   "source": [
    "e1.__contains__((4,4))"
   ]
  },
  {
   "cell_type": "markdown",
   "id": "dcee72ef-0d94-4a7a-9611-ddf720f8a908",
   "metadata": {},
   "source": [
    "Tomamos los valores de estos puntos y sumamos "
   ]
  },
  {
   "cell_type": "code",
   "execution_count": 32,
   "id": "675f498c-4735-4015-87ea-40778f648581",
   "metadata": {
    "id": "Lxm9ClKZDEgZ",
    "outputId": "c544a3b2-8e75-4890-850c-1ec8bd4b483d"
   },
   "outputs": [
    {
     "name": "stdout",
     "output_type": "stream",
     "text": [
      "O,(3, 2),(3, -2),(-3, -3),(-3, 3),(1, 0),\n",
      "(3, 2),(3, -2),O,(-3, 3),(1, 0),(-3, -3),\n",
      "(3, -2),O,(3, 2),(1, 0),(-3, -3),(-3, 3),\n",
      "(-3, -3),(-3, 3),(1, 0),(3, -2),O,(3, 2),\n",
      "(-3, 3),(1, 0),(-3, -3),O,(3, 2),(3, -2),\n",
      "(1, 0),(-3, -3),(-3, 3),(3, 2),(3, -2),O,\n"
     ]
    }
   ],
   "source": [
    "p1 = e1(1,0)\n",
    "p2 = e1(4,4)\n",
    "p3 = e1(4,3)\n",
    "p4 = e1(3,2)\n",
    "p5 = e1(3,5)\n",
    "p6 = EllipticCurvePoint.point_at_infinity(e1)\n",
    "#p6 = p1+p1\n",
    "\n",
    "lis = [p1,p2,p3,p4,p5,p6]\n",
    "\n",
    "for a in lis:\n",
    "    for b in lis:\n",
    "        print(a+b,end=\",\")\n",
    "    print(\"\")\n",
    "        \n",
    "\n"
   ]
  },
  {
   "cell_type": "markdown",
   "id": "1ba44b81-70e2-48cc-b7cc-320ec18cb553",
   "metadata": {},
   "source": [
    "Es un grupo de 6 elementos. Así al sumar un elemento a lo mas seis veces se tendra la identidad"
   ]
  },
  {
   "cell_type": "code",
   "execution_count": 33,
   "id": "27a544c7-34f4-4295-b5e6-f9b57807d64d",
   "metadata": {
    "id": "MLpJ5Y1CDEga",
    "outputId": "110e3cfd-d027-4582-a4fa-cff9dd7a2730"
   },
   "outputs": [
    {
     "name": "stdout",
     "output_type": "stream",
     "text": [
      "(1, 0) O (1, 0) O (1, 0) O\n",
      "(-3, -3) (3, -2) (1, 0) (3, 2) (-3, 3) O\n",
      "(-3, 3) (3, 2) (1, 0) (3, -2) (-3, -3) O\n",
      "(3, 2) (3, -2) O (3, 2) (3, -2) O\n",
      "(3, -2) (3, 2) O (3, -2) (3, 2) O\n",
      "O O O O O O\n"
     ]
    }
   ],
   "source": [
    "for a in lis:\n",
    "    try:\n",
    "        print(a,2*a,3*a,4*a,5*a,6*a)\n",
    "    except:\n",
    "        print(\"An exception occurred\", a)       "
   ]
  },
  {
   "cell_type": "markdown",
   "id": "afb5becd-6935-43c1-b085-5468dbbdff70",
   "metadata": {},
   "source": [
    "<div class=\"eje\">\n",
    "\n",
    "<strong>Ejemplo:</strong>\n",
    "\n",
    "$$\n",
    "\\overline{E}\\left(\\mathbb{Z}_{11}\\right) =\\left\\{(x, y) \\mid x, y \\in \\mathbb{Z}_{11}, y^{2}=x^{3}+x+6 \\bmod 11\\right\\} \\cup\\{\\mathcal{O}\\}\n",
    "$$\n",
    "    \n",
    "<p>\n",
    "</p>\n",
    "            \n",
    "</div>"
   ]
  },
  {
   "cell_type": "code",
   "execution_count": 45,
   "id": "c4aa98cc-c5e5-4d4c-9509-2049a35a44c3",
   "metadata": {},
   "outputs": [
    {
     "data": {
      "text/plain": [
       "3"
      ]
     },
     "execution_count": 45,
     "metadata": {},
     "output_type": "execute_result"
    }
   ],
   "source": [
    "\n",
    "discriminante(1,6,11)\n"
   ]
  },
  {
   "cell_type": "code",
   "execution_count": 51,
   "id": "517e4ca7-22d4-420b-8c51-aab2d621a8b6",
   "metadata": {},
   "outputs": [
    {
     "data": {
      "text/plain": [
       "{(2, 4),\n",
       " (2, 7),\n",
       " (3, 5),\n",
       " (3, 6),\n",
       " (5, 2),\n",
       " (5, 9),\n",
       " (7, 2),\n",
       " (7, 9),\n",
       " (8, 3),\n",
       " (8, 8),\n",
       " (10, 2),\n",
       " (10, 9)}"
      ]
     },
     "execution_count": 51,
     "metadata": {},
     "output_type": "execute_result"
    }
   ],
   "source": [
    "e = ec(1, 6, modulus = 11)\n",
    "puntos = e.points()\n",
    "puntos"
   ]
  },
  {
   "cell_type": "code",
   "execution_count": 57,
   "id": "5a55cb17-2fb0-450c-96a9-0099787bd21c",
   "metadata": {},
   "outputs": [
    {
     "name": "stdout",
     "output_type": "stream",
     "text": [
      "(5, -2),O,(-4, 2),(-1, 2),(2, -4),(-3, -3),(-4, -2),(3, -5),(5, 2),(-1, -2),(-3, 3),(3, 5),(2, 4),\n",
      "O,(5, 2),(-1, -2),(-4, -2),(-3, 3),(2, 4),(3, 5),(-4, 2),(-1, 2),(5, -2),(3, -5),(-3, -3),(2, -4),\n",
      "(-4, 2),(-1, -2),(-3, 3),O,(-3, -3),(-4, -2),(5, 2),(2, -4),(5, -2),(3, -5),(2, 4),(-1, 2),(3, 5),\n",
      "(-1, 2),(-4, -2),O,(-3, -3),(-4, 2),(-3, 3),(2, 4),(5, -2),(3, 5),(5, 2),(-1, -2),(2, -4),(3, -5),\n",
      "(2, -4),(-3, 3),(-3, -3),(-4, 2),(-1, 2),O,(-1, -2),(3, 5),(3, -5),(2, 4),(-4, -2),(5, -2),(5, 2),\n",
      "(-3, -3),(2, 4),(-4, -2),(-3, 3),O,(-1, -2),(3, -5),(-1, 2),(2, -4),(3, 5),(5, 2),(-4, 2),(5, -2),\n",
      "(-4, -2),(3, 5),(5, 2),(2, 4),(-1, -2),(3, -5),(2, -4),O,(-3, -3),(-1, 2),(5, -2),(-3, 3),(-4, 2),\n",
      "(3, -5),(-4, 2),(2, -4),(5, -2),(3, 5),(-1, 2),O,(2, 4),(-1, -2),(-3, 3),(-3, -3),(5, 2),(-4, -2),\n",
      "(5, 2),(-1, 2),(5, -2),(3, 5),(3, -5),(2, -4),(-3, -3),(-1, -2),(-4, -2),O,(-4, 2),(2, 4),(-3, 3),\n",
      "(-1, -2),(5, -2),(3, -5),(5, 2),(2, 4),(3, 5),(-1, 2),(-3, 3),O,(-4, 2),(2, -4),(-4, -2),(-3, -3),\n",
      "(-3, 3),(3, -5),(2, 4),(-1, -2),(-4, -2),(5, 2),(5, -2),(-3, -3),(-4, 2),(2, -4),(3, 5),O,(-1, 2),\n",
      "(3, 5),(-3, -3),(-1, 2),(2, -4),(5, -2),(-4, 2),(-3, 3),(5, 2),(2, 4),(-4, -2),O,(3, -5),(-1, -2),\n",
      "(2, 4),(2, -4),(3, 5),(3, -5),(5, 2),(5, -2),(-4, 2),(-4, -2),(-3, 3),(-3, -3),(-1, 2),(-1, -2),O,\n"
     ]
    }
   ],
   "source": [
    "p1 = e(2,4)\n",
    "p2 = e(2,7)\n",
    "p3 = e(3,5)\n",
    "p4 = e(3,6)\n",
    "p5 = e(5,2)\n",
    "\n",
    "p6 = e(5,9)\n",
    "p7 = e(7,2)\n",
    "p8 = e(7,9)\n",
    "p9 = e(8,3)\n",
    "p10 = e(8,8)\n",
    "\n",
    "p11 = e(10,2)\n",
    "p12 = e(10,9)\n",
    "\n",
    "p13 = EllipticCurvePoint.point_at_infinity(e)\n",
    "\n",
    "lis = [p1, p2, p3, p4, p5, p6, p7, p8, p9, p10, p11, p12, p13]\n",
    "\n",
    "for a in lis:\n",
    "    for b in lis:\n",
    "        print(a+b,end=\",\")\n",
    "    print(\"\")"
   ]
  },
  {
   "cell_type": "code",
   "execution_count": 59,
   "id": "efb6e8a0-a8af-4f36-880c-ec456dd14165",
   "metadata": {},
   "outputs": [
    {
     "name": "stdout",
     "output_type": "stream",
     "text": [
      "[(2, 4), (5, -2), (-3, -3), (-1, -2), (3, 5), (-4, 2), (-4, -2), (3, -5), (-1, 2), (-3, 3), (5, 2), (2, -4), O]\n",
      "[(2, -4), (5, 2), (-3, 3), (-1, 2), (3, -5), (-4, -2), (-4, 2), (3, 5), (-1, -2), (-3, -3), (5, -2), (2, 4), O]\n",
      "[(3, 5), (-3, 3), (5, -2), (-4, -2), (2, -4), (-1, -2), (-1, 2), (2, 4), (-4, 2), (5, 2), (-3, -3), (3, -5), O]\n",
      "[(3, -5), (-3, -3), (5, 2), (-4, 2), (2, 4), (-1, 2), (-1, -2), (2, -4), (-4, -2), (5, -2), (-3, 3), (3, 5), O]\n",
      "[(5, 2), (-1, 2), (-4, -2), (3, 5), (-3, -3), (2, 4), (2, -4), (-3, 3), (3, -5), (-4, 2), (-1, -2), (5, -2), O]\n",
      "[(5, -2), (-1, -2), (-4, 2), (3, -5), (-3, 3), (2, -4), (2, 4), (-3, -3), (3, 5), (-4, -2), (-1, 2), (5, 2), O]\n",
      "[(-4, 2), (2, -4), (3, 5), (5, 2), (-1, -2), (-3, 3), (-3, -3), (-1, 2), (5, -2), (3, -5), (2, 4), (-4, -2), O]\n",
      "[(-4, -2), (2, 4), (3, -5), (5, -2), (-1, 2), (-3, -3), (-3, 3), (-1, -2), (5, 2), (3, 5), (2, -4), (-4, 2), O]\n",
      "[(-3, 3), (-4, -2), (-1, -2), (2, 4), (5, 2), (3, -5), (3, 5), (5, -2), (2, -4), (-1, 2), (-4, 2), (-3, -3), O]\n",
      "[(-3, -3), (-4, 2), (-1, 2), (2, -4), (5, -2), (3, 5), (3, -5), (5, 2), (2, 4), (-1, -2), (-4, -2), (-3, 3), O]\n",
      "[(-1, 2), (3, 5), (2, 4), (-3, 3), (-4, 2), (5, -2), (5, 2), (-4, -2), (-3, -3), (2, -4), (3, -5), (-1, -2), O]\n",
      "[(-1, -2), (3, -5), (2, -4), (-3, -3), (-4, -2), (5, 2), (5, -2), (-4, 2), (-3, 3), (2, 4), (3, 5), (-1, 2), O]\n",
      "[O, O, O, O, O, O, O, O, O, O, O, O, O]\n"
     ]
    }
   ],
   "source": [
    "for a in lis:\n",
    "    print([n*a for n in range(1,14)])"
   ]
  },
  {
   "cell_type": "code",
   "execution_count": 60,
   "id": "26b5dcab-efed-4d4b-86c7-865489d9dd93",
   "metadata": {},
   "outputs": [
    {
     "name": "stdout",
     "output_type": "stream",
     "text": [
      "13\n",
      "13\n",
      "13\n",
      "13\n",
      "13\n",
      "13\n",
      "13\n",
      "13\n",
      "13\n",
      "13\n",
      "13\n",
      "13\n",
      "1\n"
     ]
    }
   ],
   "source": [
    "for p in lis:\n",
    "    print(p.order())"
   ]
  },
  {
   "cell_type": "code",
   "execution_count": 62,
   "id": "e7eb11df-e8cf-4f38-bb3c-bb601338352d",
   "metadata": {},
   "outputs": [
    {
     "name": "stdout",
     "output_type": "stream",
     "text": [
      "[0, 0, 0, 0, 0, 0, 0, 0, 0, 0, 0, 0, 0]\n",
      "[1, 2, 3, 4, 5, 6, 7, 8, 9, 10, 11, 12, 0]\n",
      "[2, 4, 6, 8, 10, 12, 1, 3, 5, 7, 9, 11, 0]\n",
      "[3, 6, 9, 12, 2, 5, 8, 11, 1, 4, 7, 10, 0]\n",
      "[4, 8, 12, 3, 7, 11, 2, 6, 10, 1, 5, 9, 0]\n",
      "[5, 10, 2, 7, 12, 4, 9, 1, 6, 11, 3, 8, 0]\n",
      "[6, 12, 5, 11, 4, 10, 3, 9, 2, 8, 1, 7, 0]\n",
      "[7, 1, 8, 2, 9, 3, 10, 4, 11, 5, 12, 6, 0]\n",
      "[8, 3, 11, 6, 1, 9, 4, 12, 7, 2, 10, 5, 0]\n",
      "[9, 5, 1, 10, 6, 2, 11, 7, 3, 12, 8, 4, 0]\n",
      "[10, 7, 4, 1, 11, 8, 5, 2, 12, 9, 6, 3, 0]\n",
      "[11, 9, 7, 5, 3, 1, 12, 10, 8, 6, 4, 2, 0]\n",
      "[12, 11, 10, 9, 8, 7, 6, 5, 4, 3, 2, 1, 0]\n"
     ]
    }
   ],
   "source": [
    "for a in range(0,13):\n",
    "    print([ (n*a) % 13 for n in range(1,14)])"
   ]
  },
  {
   "cell_type": "markdown",
   "id": "b3984521-d4c6-45dc-9d49-7b011c1cd4a8",
   "metadata": {},
   "source": [
    "Entonces $\\left(\\overline{E}\\left(\\mathbb{Z}_{11}\\right),+\\right)  \\cong \\left(\\mathbb{Z}_{13},+\\right)$"
   ]
  },
  {
   "cell_type": "markdown",
   "id": "fa0e53df-8809-4e98-ac78-9b5881f0a6ee",
   "metadata": {},
   "source": [
    "<div class=\"eje\">\n",
    "\n",
    "<strong>Ejemplo:</strong>\n",
    "\n",
    "$$\n",
    "\\overline{E}\\left(\\mathbb{Z}_{5}\\right) =\\left\\{(x, y) \\mid x, y \\in \\mathbb{Z}_{5}, y^{2}=x^{3}+x \\bmod 5\\right\\} \\cup\\{\\mathcal{O}\\}\n",
    "$$\n",
    "    \n",
    "<p>\n",
    "</p>\n",
    "            \n",
    "</div>"
   ]
  },
  {
   "cell_type": "code",
   "execution_count": 68,
   "id": "3f84cdc3-ab71-4c22-a0e5-7cb22d500e3e",
   "metadata": {},
   "outputs": [
    {
     "data": {
      "text/plain": [
       "1"
      ]
     },
     "execution_count": 68,
     "metadata": {},
     "output_type": "execute_result"
    }
   ],
   "source": [
    "discriminante(1,0,5)"
   ]
  },
  {
   "cell_type": "code",
   "execution_count": 70,
   "id": "9cdcfe6f-4297-4139-ab6f-0a3a1721cccd",
   "metadata": {},
   "outputs": [
    {
     "data": {
      "text/plain": [
       "{(0, 0), (2, 0), (3, 0)}"
      ]
     },
     "execution_count": 70,
     "metadata": {},
     "output_type": "execute_result"
    }
   ],
   "source": [
    "e = ec(1, 0, modulus = 5)\n",
    "puntos = e.points()\n",
    "puntos"
   ]
  },
  {
   "cell_type": "code",
   "execution_count": 72,
   "id": "ddab83ea-8a63-4a97-af7c-43c87e922ee0",
   "metadata": {},
   "outputs": [
    {
     "name": "stdout",
     "output_type": "stream",
     "text": [
      "O,(-2, 0),(2, 0),(0, 0),\n",
      "(-2, 0),O,(0, 0),(2, 0),\n",
      "(2, 0),(0, 0),O,(-2, 0),\n",
      "(0, 0),(2, 0),(-2, 0),O,\n"
     ]
    }
   ],
   "source": [
    "p1 = e(0,0)\n",
    "p2 = e(2,0)\n",
    "\n",
    "p3 = e(3,0)\n",
    "\n",
    "p4 = EllipticCurvePoint.point_at_infinity(e)\n",
    "\n",
    "lis = [p1, p2, p3, p4]\n",
    "\n",
    "for a in lis:\n",
    "    for b in lis:\n",
    "        print(a+b,end=\",\")\n",
    "    print(\"\")"
   ]
  },
  {
   "cell_type": "code",
   "execution_count": 74,
   "id": "580beee9-21c2-4776-8f28-6f556c244b4e",
   "metadata": {},
   "outputs": [
    {
     "name": "stdout",
     "output_type": "stream",
     "text": [
      "[(0, 0), O, (0, 0), O]\n",
      "[(2, 0), O, (2, 0), O]\n",
      "[(-2, 0), O, (-2, 0), O]\n",
      "[O, O, O, O]\n"
     ]
    }
   ],
   "source": [
    "for a in lis:\n",
    "    print([n*a for n in range(1,5)])"
   ]
  },
  {
   "cell_type": "code",
   "execution_count": 76,
   "id": "275c29c0-245b-4eb9-a3e9-d044231c2cd8",
   "metadata": {},
   "outputs": [
    {
     "name": "stdout",
     "output_type": "stream",
     "text": [
      "[0, 0, 0, 0]\n",
      "[1, 2, 3, 0]\n",
      "[2, 0, 2, 0]\n",
      "[3, 2, 1, 0]\n"
     ]
    }
   ],
   "source": [
    "for a in range(0,4):\n",
    "    print([ (n*a) % 4 for n in range(1,5)])"
   ]
  },
  {
   "cell_type": "markdown",
   "id": "eb9b073b-2152-41b5-bfcc-7079d7195021",
   "metadata": {},
   "source": [
    "Solo hay dos grupos de orden 4 https://nathancarter.github.io/group-explorer/GroupExplorer.html\n",
    "\n",
    "Por lo que necesariamente $\\left(\\overline{E}\\left(\\mathbb{Z}_{5}\\right),+\\right)  \\cong \\left(\\mathbb{V}_{4},+\\right) \\cong \\left(\\mathbb{Z_2}\\times\\mathbb{Z_2},+\\right)$. Es necesario especificar los parámetros de la curva, pues en la notación utilizada hasta ahora no es clara.\n",
    "\n",
    "\n",
    "Los grupos de curva elíptca son típicamente ciclicos o isomorfos a productos directos de grupos cíclicos.\n",
    "\n"
   ]
  },
  {
   "cell_type": "markdown",
   "id": "7965dcac-8621-4245-af95-91c35a45f542",
   "metadata": {},
   "source": [
    "### Notación\n",
    "\n",
    "Sea $P \\in \\left(\\overline{E}\\left(\\mathbb{Z}_{p}\\right),+\\right)$, con $5\\leq p$ primo\n",
    "\n",
    "- $n*P=nP=\\underbrace{P+P+\\dots+P}_{n-veces}\\quad n\\in\\mathbb{N}$\n",
    "- $0*P=0P=\\mathcal{O}$\n",
    "- $-nP=n(-P)$\n",
    "\n",
    "### Definiciones\n",
    "\n",
    "\n",
    "En criptografía, una curva elíptica es un grupo que tiene un tamaño dado $n$ (orden del grupo). Normalmente trabajamos en un subgrupo de orden primo $r$, donde $r$ divide a $r$. El **cofactor** es $h=n/r$\n",
    "\n",
    "\n",
    "Para todo punto $P$ en la curva, el punto $hP$ es el **punto en el infinito** o tiene orden $r$; es decir, al tomar un punto y  multiplicarlo por el cofactor, necesariamente da como resultado un punto en el subgrupo de orden primo $r$.\n",
    "\n",
    "\n",
    "**Actividad**\n",
    "\n",
    "\n",
    "El cofactor importa en la medida en que no es igual a 1\n",
    "\n",
    "\n",
    "\n",
    "- **Cuando el cofactor es 1**, entonces el subgrupo es la curva completa. Cualquier punto distinto de cero es un generador. \n",
    "\n",
    "- **Cuando el cofactor no es 1**, entonces el subgrupo de orden primo es un subconjunto estricto de la curva. Al considerar un punto, verificar que las coordenadas de la curva coincidan con la ecuación de la curva no es suficiente para garantizar que el punto esté en el subgrupo apropiado. Además, habrá puntos cuyo orden no sea múltiplo de 𝑟. "
   ]
  },
  {
   "cell_type": "markdown",
   "id": "31c9bc2e-977b-4fda-b322-8e80eec52301",
   "metadata": {},
   "source": [
    "# Conversiones de bases"
   ]
  },
  {
   "cell_type": "code",
   "execution_count": 88,
   "id": "aed42606-7ccb-408d-81f0-cfc0acf7f985",
   "metadata": {},
   "outputs": [],
   "source": [
    "p1 = 5\n",
    "p2 = 19\n",
    "p3 = 127"
   ]
  },
  {
   "cell_type": "code",
   "execution_count": 89,
   "id": "83420f60-bccd-4f82-8884-baca4da7de38",
   "metadata": {},
   "outputs": [],
   "source": [
    "import sympy as sp"
   ]
  },
  {
   "cell_type": "code",
   "execution_count": 91,
   "id": "2e82a436-368f-4329-b444-ad811b28d6f5",
   "metadata": {},
   "outputs": [
    {
     "data": {
      "text/plain": [
       "[True, True, True]"
      ]
     },
     "execution_count": 91,
     "metadata": {},
     "output_type": "execute_result"
    }
   ],
   "source": [
    "list(map(sp.isprime,[p1,p2,p3]))"
   ]
  },
  {
   "cell_type": "code",
   "execution_count": 110,
   "id": "52d3d3dd-bafd-490b-ad5b-fe0b07a25277",
   "metadata": {},
   "outputs": [
    {
     "name": "stdout",
     "output_type": "stream",
     "text": [
      "0b101 0o5 0x5\n"
     ]
    }
   ],
   "source": [
    "print(bin(p1),oct(p1),hex(p1))"
   ]
  },
  {
   "cell_type": "code",
   "execution_count": 111,
   "id": "13258b37-9fc6-434a-834a-e0899f9f83fc",
   "metadata": {},
   "outputs": [
    {
     "data": {
      "text/plain": [
       "True"
      ]
     },
     "execution_count": 111,
     "metadata": {},
     "output_type": "execute_result"
    }
   ],
   "source": [
    "5 == 0b101 == 0o5 == 0x5"
   ]
  },
  {
   "cell_type": "code",
   "execution_count": 109,
   "id": "9c6f798d-3805-4264-87cb-e516855ac6ba",
   "metadata": {},
   "outputs": [
    {
     "name": "stdout",
     "output_type": "stream",
     "text": [
      "5\n",
      "5\n",
      "5\n"
     ]
    }
   ],
   "source": [
    "print(int(\"101\", 2))\n",
    "print(int(\"5\", 8))\n",
    "print(int(\"5\", 16))"
   ]
  },
  {
   "cell_type": "code",
   "execution_count": 103,
   "id": "f15f7589-b93c-40f3-a92d-d3a354622931",
   "metadata": {},
   "outputs": [
    {
     "data": {
      "text/plain": [
       "3"
      ]
     },
     "execution_count": 103,
     "metadata": {},
     "output_type": "execute_result"
    }
   ],
   "source": [
    "p1.bit_length()"
   ]
  },
  {
   "cell_type": "code",
   "execution_count": 121,
   "id": "e496e0fb-52c4-42d1-8e96-2818dc950351",
   "metadata": {},
   "outputs": [
    {
     "data": {
      "text/plain": [
       "[3, 5, 7]"
      ]
     },
     "execution_count": 121,
     "metadata": {},
     "output_type": "execute_result"
    }
   ],
   "source": [
    "list(map(int.bit_length,[p1,p2,p3]))"
   ]
  },
  {
   "cell_type": "markdown",
   "id": "32395f20-db06-44a6-85ee-33c9ac43a5b2",
   "metadata": {},
   "source": [
    "# Problema de logaritmo discreto EC\n",
    "\n",
    "Sea un punto $G$ en la curva elíptica sobre un campo $\\mathbb{F}_P$ y un punto $P$ en el subgrupo generado por $G$.\n",
    "\n",
    "El problema de logaritmo discreto consisten en encontrar $k\\in \\mathbb{N}$ tal que $$P = kG$$ \n",
    "\n",
    "Para una elección adecuada de parámetros este problema es inviable de resolver. \n",
    "\n",
    "## Seguridad (Security Strength)\n",
    "\n",
    "La seguridad de una curva (Security Strength) se da en bits. Si una curva tiene $t$ bits de seguridad significa  que resolver el problema del logaritmo en la curva elíptica asociada se cree que toma aproximadamente $2^t$ operaciones."
   ]
  },
  {
   "cell_type": "markdown",
   "id": "45e3f7a8-44a9-4f46-b2ff-e6021b272524",
   "metadata": {},
   "source": [
    "# Elección de curva elíptica\n",
    "\n",
    "Existen diferentes estándares para la elección de una curva elíptica\n",
    "\n",
    "\n",
    "- [SEC 2: Recommended Elliptic Curve Domain Parameters](http://www.secg.org/sec2-v2.pdf)\n",
    "- [NIST FIPS PUB 186-4 Digital Signature Standard (DSS)](https://nvlpubs.nist.gov/nistpubs/FIPS/NIST.FIPS.186-4.pdf)\n",
    "- [Brainpool ECC Standard (RFC-5639)](https://tools.ietf.org/html/rfc5639)\n",
    "\n",
    "Estos estándares definen los parámetros para un conjunto de curvas con nombre, como secp256k1, P-521 y brainpoolP512t1. Las curvas elípticas sobre campos finitos, descritas en estos estándares criptográficos, están bien investigadas y analizadas por criptógrafos y se considera que tienen cierta fuerza de seguridad, también descrita en estos estándares.\n",
    "\n",
    "Algunos criptógrafos (como Daniel Bernstein) creen que la mayoría de las curvas descritas en los estándares criptográficos oficiales son \"inseguras\" y definen sus propios estándares criptográficos, que consideran la seguridad ECC en un nivel mucho más amplio.\n",
    "\n",
    "El estándar SafeCurves de Bernstein enumera las curvas que son seguras de acuerdo con un conjunto de requisitos de seguridad ECC. El estándar está disponible en https://safecurves.cr.yp.to.\n",
    "\n",
    "\n",
    "\n",
    "\n",
    "## Curva secp256k1\n",
    "\n",
    "\n",
    "- **sec**: ‘Standards for Efficient Cryptography’\n",
    "\n",
    "$$y ^2 = x^3 + 7 \\bmod p$$\n",
    "\n",
    "Los parámetros de una curva elíptica sobre $\\mathbb{F}_p$ son un sextupla\n",
    "\n",
    "$$\n",
    "T=(p, a, b, G, n, h)\n",
    "$$\n",
    "\n",
    "- $G$ es un punto en la curva\n",
    "- $n$ es el orden de $G$\n",
    "- $h$ es el cofactor\n",
    "\n",
    "- **p (modulo)**: \n",
    "  - 0xFFFFFFFFFFFFFFFFFFFFFFFFFFFFFFFFFFFFFFFFFFFFFFFFFFFFFFFEFFFFFC2F\n",
    "- **n (orden; # de puntos en la curva)**: \n",
    "  - 0xFFFFFFFFFFFFFFFFFFFFFFFFFFFFFFFEBAAEDCE6AF48A03BBFD25E8CD0364141\n",
    "- **a (la constante)**: \n",
    "  - 0x0000000000000000000000000000000000000000000000000000000000000000\n",
    "- **b (la constante)**: \n",
    "  - 0x0000000000000000000000000000000000000000000000000000000000000007\n",
    "- **g (el generador $G (x, y)$)**: \n",
    "  - (0x79BE667EF9DCBBAC55A06295CE870B07029BFCDB2DCE28D959F2815B16F81798, 0x483ada7726a3c4655da4fbfc0e1108a8fd17b448a68554199c47d08ffb10d4b8)\n",
    "- **h (cofactor)**: 0x1\n"
   ]
  },
  {
   "cell_type": "code",
   "execution_count": 122,
   "id": "59d699be-3d70-47fb-a459-8b330b692e4e",
   "metadata": {},
   "outputs": [
    {
     "data": {
      "text/plain": [
       "115792089237316195423570985008687907853269984665640564039457584007908834671663"
      ]
     },
     "execution_count": 122,
     "metadata": {},
     "output_type": "execute_result"
    }
   ],
   "source": [
    "pex = \"FFFFFFFFFFFFFFFFFFFFFFFFFFFFFFFFFFFFFFFFFFFFFFFFFFFFFFFEFFFFFC2F\"\n",
    "p = int(pex,16)\n",
    "p"
   ]
  },
  {
   "cell_type": "code",
   "execution_count": 119,
   "id": "4d57180f-de93-41f3-a2b5-565761a99ee5",
   "metadata": {},
   "outputs": [
    {
     "data": {
      "text/plain": [
       "True"
      ]
     },
     "execution_count": 119,
     "metadata": {},
     "output_type": "execute_result"
    }
   ],
   "source": [
    "sp.isprime(p)"
   ]
  },
  {
   "cell_type": "code",
   "execution_count": 123,
   "id": "50c9bbdc-389e-47aa-b63a-d3da64f7ba49",
   "metadata": {},
   "outputs": [
    {
     "data": {
      "text/plain": [
       "256"
      ]
     },
     "execution_count": 123,
     "metadata": {},
     "output_type": "execute_result"
    }
   ],
   "source": [
    "p.bit_length()"
   ]
  },
  {
   "cell_type": "code",
   "execution_count": 127,
   "id": "2f1b7105-92ed-4208-9efc-b0fb8d16ddff",
   "metadata": {},
   "outputs": [
    {
     "name": "stdout",
     "output_type": "stream",
     "text": [
      "miles de millones de elementos\n",
      "115792089237316195423570985008687907852837564279074904382605163141518161494337\n"
     ]
    }
   ],
   "source": [
    "n = 0xFFFFFFFFFFFFFFFFFFFFFFFFFFFFFFFEBAAEDCE6AF48A03BBFD25E8CD0364141\n",
    "print(\"miles de millones de elementos\")\n",
    "print(n)"
   ]
  },
  {
   "cell_type": "markdown",
   "id": "b0714a0d-7230-4fb9-b0ca-ae4a881d0dab",
   "metadata": {},
   "source": [
    "[Implementación de secp256k1](https://colab.research.google.com/drive/1kHXeBf1I-rBzD-JPjWs_W0ArTYExDbNC?usp=sharing)"
   ]
  },
  {
   "cell_type": "markdown",
   "id": "467e58a0-d90e-49a3-8e0f-132b7f378681",
   "metadata": {},
   "source": [
    "## DH con EC\n",
    "\n",
    "https://colab.research.google.com/drive/1FzbBy18f6CN6qdlx95Ur5YZAd8qwBNlL?usp=sharing\n",
    "\n",
    "## Firmas digitales con EC\n",
    "\n",
    "<div class=\"polaroid\">\n",
    "<img src=\"imagenes/stal_cn_13_5.png\" alt=\"Pareja\">\n",
    "</div>\n",
    "\n",
    "\n",
    "https://colab.research.google.com/drive/1G9goRC--mSfNhLYmlwxvVg1mmm9YAztM?usp=sharing\n",
    "\n",
    "\n",
    "## Encriptación/Decriptación con EC"
   ]
  },
  {
   "cell_type": "markdown",
   "id": "b556add0-772b-42c8-97bb-c4b6e051b019",
   "metadata": {},
   "source": [
    "# Compresión de puntos \n",
    "\n",
    "Curvas elípticas sobre campos finitos ($\\mathbb{Z}_p$, en forma de Weierstrass) tiene a lo más dos puntos por cordenada  $x$\n",
    "donde la componente es $y$ puede ser par/impar\n",
    "\n",
    "\n",
    "![](https://wizardforcel.gitbooks.io/practical-cryptography-for-developers-book/content/assets/elliptic-curve-over-f17-points-per-y-coordinate.png)\n",
    "\n"
   ]
  },
  {
   "cell_type": "markdown",
   "id": "9ff3cb48-ac3c-4a1f-b9b7-94ba63460bc4",
   "metadata": {},
   "source": [
    "Así, un punto con coordenadas $(x,y)\\rightarrow (x,impar/par)\\rightarrow (x,1/0)$\n",
    "\n",
    "Pare descomprimir un punto se puede utilizar \n",
    "\n",
    "- $y = (x^3 + ax +b)^ {1/2} \\bmod p$\n",
    "\n",
    "- $y = - (x^3 + ax +b)^{1/2} \\bmod p = p  -  (x^3 + ax +b)^{1/2} \\bmod p$\n",
    "\n",
    "de aquí, se toma el resultado par o impar de acuerdo al bit de paridad. Para calcular la raíz cuadrada módulo $p$ se puede utilizar el algoritmo [Tonelli–Shanks](https://en.wikipedia.org/wiki/Tonelli%E2%80%93Shanks_algorithm) \n",
    "\n",
    "https://colab.research.google.com/drive/1m-Lnvy13rqY0NpA0dGl1pbWSbwbWet4U?usp=sharing\n",
    "\n"
   ]
  },
  {
   "cell_type": "code",
   "execution_count": 1,
   "id": "c234f93d-fd3e-4385-a509-2226dcbbf32b",
   "metadata": {},
   "outputs": [
    {
     "data": {
      "text/html": [
       "<link href='http://fonts.googleapis.com/css?family=Alegreya+Sans:100,300,400,500,700,800,900,100italic,300italic,400italic,500italic,700italic,800italic,900italic' rel='stylesheet' type='text/css'>\n",
       "<link href='http://fonts.googleapis.com/css?family=Arvo:400,700,400italic' rel='stylesheet' type='text/css'>\n",
       "<link href='http://fonts.googleapis.com/css?family=PT+Mono' rel='stylesheet' type='text/css'>\n",
       "<link href='http://fonts.googleapis.com/css?family=Shadows+Into+Light' rel='stylesheet' type='text/css'>\n",
       "<link href='http://fonts.googleapis.com/css?family=Nixie+One' rel='stylesheet' type='text/css'>\n",
       "<link href='https://fonts.googleapis.com/css?family=Source+Code+Pro' rel='stylesheet' type='text/css'>\n",
       "<style>\n",
       "\n",
       "@font-face {\n",
       "    font-family: \"Computer Modern\";\n",
       "    src: url('http://mirrors.ctan.org/fonts/cm-unicode/fonts/otf/cmunss.otf');\n",
       "}\n",
       "\n",
       "\n",
       "\n",
       "  /*                       vvvv changed from 14px  */\n",
       "  --jp-content-font-size1: 16px; /* Base font size */\n",
       "\n",
       "  /*                        vvvv inserted at the front  */\n",
       "  --jp-content-font-family: 'M+ 2p', -apple-system, BlinkMacSystemFont, 'Segoe UI';\n",
       "\n",
       "#notebook_panel { /* main background */\n",
       "    background: rgb(255,255,255);/*rgb(245,245,245);*/\n",
       "}\n",
       "\n",
       "div.cell { /* set cell width */\n",
       "    background: rgb(255,255,255);\n",
       "    width: 1000px;/* 850 */\n",
       "    margin-left:auto;\n",
       "    margin-right:auto;\n",
       "\n",
       "}\n",
       "\n",
       "div #notebook { /* centre the content */\n",
       "    background: rgb(255,255,255); /*#fff; white background for content */\n",
       "    width: 1150px;\n",
       "    margin: auto;\n",
       "    margin-left:auto;\n",
       "    margin-right:auto;\n",
       "\n",
       "}\n",
       "\n",
       "#notebook li { /* More space between bullet points */\n",
       "    margin-top:0.8em;\n",
       "}\n",
       "\n",
       "/* draw border around running cells */\n",
       "div.cell.border-box-sizing.code_cell.running { \n",
       "    border: 1px solid #111;\n",
       "}\n",
       "\n",
       "/* Put a solid color box around each cell and its output, visually linking them*/\n",
       "div.cell.code_cell {\n",
       "    background-color: rgb(255,255,255);/*rgb(256,256,256);*/ \n",
       "    border-radius: 0px; \n",
       "    padding: 2em;\n",
       "    margin-left:2em;\n",
       "    margin-top: 2em;\n",
       "    margin-bottom: 2em;\n",
       "    margin-left:auto;\n",
       "    margin-right:auto;\n",
       "    width:1000px;\n",
       "\n",
       "}\n",
       "\n",
       "div.jp-RenderedMarkdown{\n",
       "    font-family: 'Alegreya Sans' sans-serif;\n",
       "    line-height: 140%;\n",
       "    font-size: 130%;\n",
       "    font-weight: 400;\n",
       "    width:850px;\n",
       "    margin-left:auto;\n",
       "    margin-right:auto;\n",
       "    padding-left: 0px;\n",
       "}\n",
       "\n",
       "\n",
       "/* Formatting for header cells */\n",
       ".jp-RenderedMarkdown h1 {\n",
       "    font-family: 'Nixie One', serif;\n",
       "    font-style:regular;\n",
       "    font-weight: 400;    \n",
       "    font-size: 30pt;\n",
       "    line-height: 100%;\n",
       "    color: rgb(0,51,102);\n",
       "    margin-bottom: 0.5em;\n",
       "    margin-top: 0.5em;\n",
       "    display: block;\n",
       "}\n",
       "\n",
       ".jp-RenderedMarkdown h2 {\n",
       "    font-family: 'Nixie One', serif;\n",
       "    font-weight: 400;\n",
       "    font-size: 25pt;\n",
       "    line-height: 100%;\n",
       "    color: rgb(0,51,102);\n",
       "    margin-bottom: 0.1em;\n",
       "    margin-top: 0.3em;\n",
       "    display: block;\n",
       "}\t\n",
       "\n",
       ".jp-RenderedMarkdown h3 {\n",
       "    font-family: 'Nixie One', serif;\n",
       "    margin-top:16px;\n",
       "    font-size: 22pt;\n",
       "    font-weight: 600;\n",
       "    margin-bottom: 3px;\n",
       "    font-style: regular;\n",
       "    color: rgb(102,102,0);\n",
       "}\n",
       "\n",
       ".jp-RenderedMarkdown h4 {    /*Use this for captions*/\n",
       "    font-family: 'Nixie One', serif;\n",
       "    font-size: 14pt;\n",
       "    text-align: center;\n",
       "    margin-top: 0em;\n",
       "    margin-bottom: 2em;\n",
       "    font-style: regular;\n",
       "}\n",
       "\n",
       ".jp-RenderedMarkdown h5 {  /*Use this for small titles*/\n",
       "    font-family: 'Nixie One', sans-serif;\n",
       "    font-weight: 400;\n",
       "    font-size: 16pt;\n",
       "    color: rgb(163,0,0);\n",
       "    font-style: italic;\n",
       "    margin-bottom: .1em;\n",
       "    margin-top: 0.8em;\n",
       "    display: block;\n",
       "}\n",
       "\n",
       ".jp-RenderedMarkdown h6 { /*use this for copyright note*/\n",
       "    font-family: 'PT Mono', sans-serif;\n",
       "    font-weight: 300;\n",
       "    font-size: 9pt;\n",
       "    line-height: 100%;\n",
       "    color: grey;\n",
       "    margin-bottom: 1px;\n",
       "    margin-top: 1px;\n",
       "}\n",
       "\n",
       ".CodeMirror{\n",
       "    font-family: \"Source Code Pro\";\n",
       "    font-size: 90%;\n",
       "}\n",
       "\n",
       ".alert-box {\n",
       "    padding:10px 10px 10px 36px;\n",
       "    margin:5px;\n",
       "}\n",
       "\n",
       ".success {\n",
       "    color:#666600;\n",
       "    background:rgb(240,242,229);\n",
       "}\n",
       "\n",
       "\n",
       ".def {\t\n",
       "    border-style:solid;\n",
       "    border-width:4px;\n",
       "    /*-webkit-border-radius:15px;*/\n",
       "    border-radius: 1em;\n",
       "    border-color:rgba(102,194,163,0.9);/**  #366272;#CD853F;/**rgba(112, 156, 169, 0.66);*/\n",
       "    /*background: #366272;rgba(54, 98, 114, 0.9);/*#366272;*/\n",
       "\t/*border-top-left-radius:10%;*/\n",
       "\tcolor:black;\n",
       "\tfont-size: 1em;\n",
       "\t/*box-shadow: 10px 10px 10px #2178a3;*/\n",
       "\t/*overflow:scroll;*/\n",
       "\tpadding: 2% 4% 2% 4%;\n",
       "\tbox-sizing: border-box;\n",
       "\twidth:80%;\n",
       "    margin-left:auto;\n",
       "    margin-right:auto;\n",
       "    margin-bottom:2%;\n",
       "    margin-top:2%; \n",
       "    font-size: 1.0em;\n",
       "\tline-height: 1.6;\n",
       "\tfont-weight: 300;\n",
       "    background:rgba(102,194,163,0.2);/*1(0.40000000596046448, 0.7607843279838562, 0.64705884456634521)*/\n",
       "}\n",
       "\n",
       "\n",
       "\n",
       "\n",
       "\n",
       "\n",
       ".act {\t\n",
       "    border-style:solid;\n",
       "    border-width:4px;\n",
       "    /*-webkit-border-radius:15px;*/\n",
       "\tborder-radius: 1em;\n",
       "    border-color:rgb(255, 51, 255,0.9);/**  #366272;#CD853F;/**rgba(112, 156, 169, 0.66);*/\n",
       "    /*background: #366272;rgba(54, 98, 114, 0.9);/*#366272;*/\n",
       "\t/*border-top-left-radius:10%;*/\n",
       "\tcolor:black;\n",
       "\tfont-size: 1em;\n",
       "\t/*box-shadow: 10px 10px 10px #2178a3;*/\n",
       "\t/*overflow:scroll;*/\n",
       "\tpadding: 2% 4% 2% 4%;\n",
       "\tbox-sizing: border-box;\n",
       "\twidth:80%;\n",
       "    margin-left:auto;\n",
       "    margin-right:auto;\n",
       "    margin-bottom:2%;\n",
       "    margin-top:2%; \n",
       "    font-size: 1.0em;\n",
       "\tline-height: 1.6;\n",
       "\tfont-weight: 300;\n",
       "    background:rgba(255, 51, 255,0.2);/*1(0.40000000596046448, 0.7607843279838562, 0.64705884456634521)*/\n",
       "}\n",
       "\n",
       "\n",
       "\n",
       ".teo {\t\n",
       "    border-style:solid;\n",
       "    border-width:4px;\n",
       "    /*-webkit-border-radius:15px;*/\n",
       "\tborder-radius: 1em;\n",
       "    border-color:rgb(250, 187, 81,0.9);/**  #366272;#CD853F;/**rgba(112, 156, 169, 0.66);*/\n",
       "    /*background: #366272;rgba(54, 98, 114, 0.9);/*#366272;*/\n",
       "\t/*border-top-left-radius:10%;*/\n",
       "\tcolor:black;\n",
       "\tfont-size: 1em;\n",
       "\t/*box-shadow: 10px 10px 10px #2178a3;*/\n",
       "\t/*overflow:scroll;*/\n",
       "\tpadding: 2% 4% 2% 4%;\n",
       "\tbox-sizing: border-box;\n",
       "\twidth:80%;\n",
       "    margin-left:auto;\n",
       "    margin-right:auto;\n",
       "    margin-bottom:2%;\n",
       "    margin-top:2%; \n",
       "    font-size: 1.0em;\n",
       "\tline-height: 1.6;\n",
       "\tfont-weight: 300;\n",
       "    background:rgba(250, 187, 81,0.2);/*1(0.40000000596046448, 0.7607843279838562, 0.64705884456634521)*/\n",
       "}\n",
       "\n",
       "\n",
       ".eje {\t\n",
       "    border-style:solid;\n",
       "    border-width:4px;\n",
       "    /*-webkit-border-radius:15px;*/\n",
       "\tborder-radius: 1em;\n",
       "    border-color: rgba(200, 227, 212,0.9); /*rgba(249,140,97,0.9);#CD853F ; #366272*#CD853F;/**rgba(112, 156, 169, 0.66);*/\n",
       "    /*background: #366272;rgba(54, 98, 114, 0.9);/*#366272;*/\n",
       "\t/*border-top-left-radius:10%;*/\n",
       "\tcolor:black;\n",
       "\tfont-size: 1em;\n",
       "\t/*box-shadow: 10px 10px 10px #2178a3;*/\n",
       "\t/*overflow:scroll;*/\n",
       "\tpadding: 2% 4% 2% 4%;\n",
       "\tbox-sizing: border-box;\n",
       "\twidth:95%;\n",
       "    margin-left:auto;\n",
       "    margin-right:auto;\n",
       "    margin-bottom:2%;\n",
       "    margin-top:2%; \n",
       "    background: rgba(200, 227, 212,0.2);  /*rgba(249,140,97,0.2) /*2(0.98131487965583808, 0.55538641635109398, 0.38740485135246722)*/\n",
       "}\n",
       "\n",
       "\n",
       ".problemas {\t\n",
       "    border-style:solid;\n",
       "    border-width:4px;\n",
       "    /*-webkit-border-radius:15px;*/\n",
       "\tborder-radius: 1em;\n",
       "    border-color:rgba(0, 121, 53);/**  #366272;#CD853F;/**rgba(112, 156, 169, 0.66);*/\n",
       "    /*background: #366272;rgba(54, 98, 114, 0.9);/*#366272;*/\n",
       "\t/*border-top-left-radius:10%;*/\n",
       "\tcolor:black;\n",
       "\tfont-size: 1em;\n",
       "\t/*box-shadow: 10px 10px 10px #2178a3;*/\n",
       "\t/*overflow:scroll;*/\n",
       "\tpadding: 2% 4% 2% 4%;\n",
       "\tbox-sizing: border-box;\n",
       "\twidth:95%;\n",
       "    margin-left:auto;\n",
       "    margin-right:auto;\n",
       "    margin-bottom:2%;\n",
       "    margin-top:2%; \n",
       "    background:rgba(0, 121, 53, 0.3);/*3(0.55432528607985565, 0.62711267120697922, 0.79595541393055635)*/\n",
       "}\n",
       "\n",
       "\n",
       "\n",
       ".jp-RenderedMarkdown {\n",
       "\tfont-size: 1.2em;\n",
       "\tline-height: 1.6;\n",
       "\tfont-weight: 300;\n",
       "\ttext-align: justify;\n",
       "    color: gray;\n",
       "}\n",
       "\n",
       "\n",
       "\n",
       ".jp-RenderedMarkdown p {\n",
       "\tfont-size: 1.0em;\n",
       "\tline-height: 1.6;\n",
       "\tfont-weight: 300;\n",
       "\ttext-align: justify;\n",
       "    color: gray;\n",
       "}\n",
       "\n",
       "div pre\n",
       "{\n",
       "    color: red;\n",
       "    padding: 0.5em;\n",
       "    /*margin-left:1em;\n",
       "    margin-top: 1em;*/\n",
       "    margin-left:auto;\n",
       "    margin-right:auto;\n",
       "    }\n",
       "\n",
       "\n",
       ".polaroid {\n",
       "  width: 80%;\n",
       "  background-color: white;\n",
       "  box-shadow: 0 4px 8px 0 rgba(0, 0, 0, 0.2), 0 6px 20px 0 rgba(0, 0, 0, 0.19);\n",
       "  margin-bottom: 25px;\n",
       "    margin-left:auto;\n",
       "    margin-right:auto;\n",
       "    margin-top:2%;\n",
       "}\n",
       "\n",
       ".despolaroid p{\n",
       "  text-align: center;\n",
       "  padding: 10px 20px;\n",
       "    margin-left:auto;\n",
       "    margin-right:auto;\n",
       "    font-size: 0.8em;\n",
       "\tline-height: 1;\n",
       "\tfont-weight: 200;\n",
       "\n",
       "}\n",
       "\n",
       "\n",
       ".jp-RenderedMarkdown img {\n",
       "    display: block;\n",
       "    margin: auto;\n",
       "    width: 70%;\n",
       "    border-bottom: 4px solid #ddd;\n",
       "    padding: 5px;\n",
       "}\n",
       "\n",
       "\n",
       "</style>\n",
       "<script>\n",
       "    MathJax.Hub.Config({\n",
       "                        TeX: {\n",
       "                           extensions: [\"AMSmath.js\"],\n",
       "                           equationNumbers: { autoNumber: \"AMS\", useLabelIds: true}\n",
       "                           },\n",
       "                tex2jax: {\n",
       "                    inlineMath: [ ['$','$'], [\"\\\\(\",\"\\\\)\"] ],\n",
       "                    displayMath: [ ['$$','$$'], [\"\\\\[\",\"\\\\]\"] ]\n",
       "                },\n",
       "                displayAlign: 'center', // Change this to 'center' to center equations.\n",
       "                \"HTML-CSS\": {\n",
       "                    styles: {'.MathJax_Display': {\"margin\": 4}}\n",
       "                }\n",
       "});\n",
       "</script>"
      ],
      "text/plain": [
       "<IPython.core.display.HTML object>"
      ]
     },
     "execution_count": 1,
     "metadata": {},
     "output_type": "execute_result"
    }
   ],
   "source": [
    "from IPython.core.display import HTML\n",
    "css_file = 'css/estilo1.css'\n",
    "HTML(open(css_file, \"r\").read())"
   ]
  },
  {
   "cell_type": "markdown",
   "id": "1abcca59-1d86-42ac-af1b-15fba5f78526",
   "metadata": {},
   "source": [
    "Esto es lo que sucede, por ejemplo, con Curve25519, que tiene un cofactor de 8. Este tipo de curvas requieren un cuidado extra en el protocolo que las utiliza. Por ejemplo, al realizar un intercambio de claves Diffie-Hellman sobre Curve25519, las claves privadas Diffie-Hellman deben elegirse como múltiplos de 8 (lo que se expresa como: \"establecer los tres bits menos significativos en cero\"); esto asegura que los puntos estarán en el subgrupo adecuado."
   ]
  },
  {
   "cell_type": "code",
   "execution_count": null,
   "id": "bedb1df3-0429-45c1-ae25-933533353c86",
   "metadata": {},
   "outputs": [],
   "source": []
  }
 ],
 "metadata": {
  "kernelspec": {
   "display_name": "Python 3 (ipykernel)",
   "language": "python",
   "name": "python3"
  },
  "language_info": {
   "codemirror_mode": {
    "name": "ipython",
    "version": 3
   },
   "file_extension": ".py",
   "mimetype": "text/x-python",
   "name": "python",
   "nbconvert_exporter": "python",
   "pygments_lexer": "ipython3",
   "version": "3.8.5"
  }
 },
 "nbformat": 4,
 "nbformat_minor": 5
}
