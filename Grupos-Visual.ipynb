{
 "cells": [
  {
   "cell_type": "markdown",
   "id": "a3d65738-ebd5-4750-a9e3-177d74b2b678",
   "metadata": {},
   "source": [
    "# Grupos\n",
    "\n",
    "<div class='def'>\n",
    "<strong>$\\color{ForestGreen}{\\bf Definición}$</strong> <em>[Operación Binaria\n",
    "    ]</em>\n",
    "<p> Sea $A$ un conjunto. Una $\\color{red}{\\bf operación}$ $\\color{red}{\\bf binaria}$ es una \n",
    "    función $\\ast:A\\times A \\longrightarrow A$ que asigna a cada par\n",
    "    $(a,b)$, $algún$ elemento $c$ de $A$. En lugar\n",
    "    de escribir $\\ast(a,b)=c$ se escribe $a \\ast b=c$\n",
    "    \n",
    "    \n",
    " </p>\n",
    "</div> "
   ]
  },
  {
   "cell_type": "markdown",
   "id": "5bbe104e-f795-4476-8441-e77dec65a43c",
   "metadata": {},
   "source": [
    "<div class=\"eje\"> \n",
    "\n",
    "<strong>$\\color{Blue}{\\bf Ejemplo}$</strong><em>[Operación binaria]\n",
    "    </em>\n",
    "<p> \n",
    "    \n",
    "1)La suma en los números naturales, $+:\\mathbb{N}\\times\\mathbb{N}\\longrightarrow\\mathbb{N}$,\n",
    "       $+(1,3)=4$ que se escribe $1+3=4$.\n",
    "    \n",
    "2)El producto de números racionales, \n",
    "        $\\otimes:\\mathbb{Q}\\times\\mathbb{Q}\\longrightarrow\\mathbb{Q};\n",
    "        \\otimes(\\frac{3}{4},\\frac{1}{5})=\\frac{3}{20}$;\n",
    "        que se escribe como $\\frac{3}{4} \\otimes\\frac{1}{5}=\\frac{3}{20}$.\n",
    "</p>\n",
    "            \n",
    "</div>"
   ]
  },
  {
   "cell_type": "markdown",
   "id": "be786d9a-f8b9-4bf4-baf7-d4c16db4a64d",
   "metadata": {},
   "source": [
    "<div class='def'>\n",
    "<strong>$\\color{ForestGreen}{\\bf Definición}$</strong> <em>[GRUPO]</em>\n",
    " <p> Un $\\color{red}{\\bf{grupo}}$ es una pareja ($G$,$\\ast$) donde $G$ es un conjunto no vacio y\n",
    "     $$\\ast: G\\times G\\longrightarrow G$$\n",
    "     es una opreración binaria\n",
    "     $$(a,b)\\longmapsto \\ast(a,b)$$\n",
    "     donde, por conveniencia o por abuso de notación se escribe\n",
    "     $$a\\ast b$$\n",
    "     talque\n",
    "     \n",
    "$\\mathscr{G}_1$ Es $\\color{Blue}{\\bf{asociativa}}$, esto es, \n",
    "     $a\\ast (b\\ast c)=(a\\ast b)\\ast c$.\n",
    "     \n",
    "$\\mathscr{G}_2$ Existe un elemento $e$ en $G$, tal que $e\\ast a=a\\ast e=e$ para todas las $a\\in G$.\n",
    "     Este elemento $e$ es un $\\color{Blue}{\\bf{elemento}}$ \n",
    "     $\\color{Blue}{\\bf{identidad}}$ para $\\ast$ en $G$.\n",
    "     \n",
    "$\\mathscr{G}_3$ Para cada $a\\in G$ existe un elemento $a^{-1}\\in G$ con la propiedad de que \n",
    "     $$a^{-1}\\ast a=a\\ast a^{-1}=e.$$\n",
    "     El elemento $a^{-1}$ es un $\\color{Blue}{\\bf inverso}$ $\\color{Blue}{\\bf de}$ \n",
    "     $a$ $\\color{Blue}{\\bf respecto}$ $\\color{Blue}{\\bf a}$ $\\ast$.\n",
    "    \n",
    " </p>\n",
    "</div>"
   ]
  },
  {
   "cell_type": "markdown",
   "id": "542fd27e-8ce7-4ded-ab6e-1a158a4084e4",
   "metadata": {},
   "source": [
    "Muchos autores incluyen otro axioma para un grupo, a saber que $G$ sea \n",
    "  *cerrado bajo la operación* $\\ast$, es decir, $(a\\ast b)\\in G$ para todas las $a,\\,b\\in G$. Para\n",
    "  nosostros, ésta es una consecuencia de la *definición* de operación binaria en $G$."
   ]
  },
  {
   "cell_type": "markdown",
   "id": "679ca8f6-9a05-4607-a898-6280b8ad7d78",
   "metadata": {},
   "source": [
    "<div class='teo'>\n",
    "<strong>$\\color{Maroon}{\\bf Teorema}$</strong> <em>[Leyes de Cancelación]</em>\n",
    "<p>Si $G$ es un grupo con una operación binaria $\\ast $, entonces las $\\color{brown}{\\bf leyes}$ \n",
    "    $\\color{brown}{\\bf de}$ $\\color{brown}{\\bf cancelación}$ $\\color{brown}{\\bf izquierda}$ \n",
    "    $\\color{brown}{\\bf y}$ $\\color{brown}{\\bf derecha}$ se cumplen en $G$, es decir\n",
    "    $$a\\ast b=a\\ast c\\Longrightarrow b=c$$\n",
    "    y\n",
    "    $$b\\ast a=c\\ast a\\Longrightarrow b=c$$\n",
    "    para toda $a$, $b$, $c\\in G$.\n",
    "    \n",
    "\n",
    "</p>\n",
    "</div>\n",
    "\n",
    "[Demostración](https://jamboard.google.com/d/12W9kficPzkB7qOg_pnWYghC5covcd-T_E9--ozQZe5g/viewer?f=0)"
   ]
  },
  {
   "cell_type": "markdown",
   "id": "3c92e4d7-c40e-4179-a5f1-929547c360d8",
   "metadata": {},
   "source": [
    "<div class='teo'>\n",
    "<strong>$\\color{Maroon}{\\bf Teorema}$</strong> <em>[Solución única de una ecuación lineal.]</em>\n",
    "<p> Si $G$ es un grupo con operación binaria $\\ast $ y si $a$ y $b$ son\n",
    "    elementos cualesquiera de $G$ entonces las ecuaciones lineales $a\\ast x=b$\n",
    "    y $y\\ast a=b$ $\\color{brown}{\\rm tienen}$ $\\color{brown}{\\rm soluciones}$ \n",
    "    $\\color{brown}{\\rm únicas}$ en $G$.\n",
    "\n",
    "</p>\n",
    "</div>\n",
    "\n",
    "[Demostración](https://jamboard.google.com/d/12W9kficPzkB7qOg_pnWYghC5covcd-T_E9--ozQZe5g/viewer?f=1)"
   ]
  },
  {
   "cell_type": "markdown",
   "id": "74246365-d198-4f3b-bb5d-4318e30df8d8",
   "metadata": {},
   "source": [
    "<div class='def'>\n",
    "<strong>$\\color{ForestGreen}{\\bf Definición}$</strong> <em>[Grupo Abeliano]</em>\n",
    "<p>Un grupo $G$ es $\\color{red}{\\bf abeliano}$ si su operación binaria $\\ast $\n",
    "    es conmutativa, es decir,\n",
    "    $$a\\ast b=b\\ast a\\quad {\\mbox{para todas  }}\\;\\; a,b\\in G$$\n",
    " </p>\n",
    "</div>"
   ]
  },
  {
   "cell_type": "markdown",
   "id": "dff980fc-0e39-4ea8-ab30-4612df235b27",
   "metadata": {},
   "source": [
    "Pongamos algunos ejemplos de conjuntos con operaciones binarias que dan grupos y \n",
    "otros que no dan grupos."
   ]
  },
  {
   "cell_type": "markdown",
   "id": "135c8a74-c096-49f8-8885-b77ab1823e8e",
   "metadata": {},
   "source": [
    "<div class=\"eje\">\n",
    "\n",
    "<strong>$\\color{Blue}{\\bf Ejemplo}$</strong>\n",
    "\n",
    "<p>\n",
    "\n",
    "1) El conjunto $\\mathbb Z^+$ con la operación $+$ usual. ¿Es o no es un grupo?\n",
    "\n",
    "2) El conjunto de todos los enteros no negativos (incluyendo el 0) con la \n",
    "    operación $+$ usual. ¿Es o no es un grupo?\n",
    "    \n",
    "3) El conjunto $\\mathbb Z$ con la operación $+$ usual. ¿Es o no es un grupo?\n",
    "    \n",
    "4) El conjunto $\\mathbb Z^+$ con al operación multiplicación usual. ¿Es o no es un grupo?\n",
    "   \n",
    "5) El conjunto $\\mathbb Q^+$ con la operación multiplicación usual. ¿Es o no es un grupo?\n",
    "    \n",
    "6) Definace $\\ast$ en $\\mathbb Q^+$ por $a\\ast b=\\displaystyle{\\frac{ab}{2}}$. Con esta operación \n",
    "    $no$ $usual$, ¿es o no es un grupo?\n",
    "    \n",
    "</p>\n",
    "            \n",
    "</div>\n",
    "\n",
    "[Solución](https://jamboard.google.com/d/12W9kficPzkB7qOg_pnWYghC5covcd-T_E9--ozQZe5g/viewer?f=2)"
   ]
  },
  {
   "cell_type": "markdown",
   "id": "02672e40-0764-414b-b0c5-0142c1a9c8f1",
   "metadata": {},
   "source": [
    "<div class='teo'>\n",
    "<strong>$\\color{Maroon}{\\bf Teorema}$</strong> <em>[Unicidad de la identidad e inverso]</em>\n",
    "<p>En un grupo $G$ con operación $\\ast $ hay una sola identdad $e$ tal que\n",
    "    $$e\\ast x=x\\ast e=x$$\n",
    "    para todas las $x\\in G$. De la misma manera,\n",
    "    para cada $a\\in G$ existe un solo elemento $a^{-1}$ tal que\n",
    "    $$a^{-1}\\ast a=a\\ast a^{-1}=e.$$\n",
    "\n",
    "En resumen, la $\\color{brown}{\\rm identidad}$\n",
    "    y los $\\color{brown}{\\rm inversos}$ \n",
    "    $\\color{brown}{\\rm son}$ $\\color{brown}{\\rm únicos}$ en un grupo.\n",
    "</p>\n",
    "</div>\n",
    "\n",
    "[Demostración](https://jamboard.google.com/d/12W9kficPzkB7qOg_pnWYghC5covcd-T_E9--ozQZe5g/viewer?f=4)"
   ]
  },
  {
   "cell_type": "markdown",
   "id": "800e1e48-23cc-42e0-a1d1-8b80f323e28d",
   "metadata": {},
   "source": [
    "Los ejemplos presentados han correspondido a grupos infinitos, esto es, \n",
    "de grupos donde el conjunto $G$ tiene un número infinto de elementos. ¿Existe\n",
    "una estructura de grupo en algún grupo finito? La respuesta es **sí**. Estas\n",
    "estructuras son muy importantes."
   ]
  },
  {
   "cell_type": "markdown",
   "id": "80f45c18-24eb-44ad-b876-b185e31435fa",
   "metadata": {},
   "source": [
    "Puesto que un grupo debe tener al menos un elemento, a saber, la identidad, el conjunto\n",
    "más pequeño que puede dar a lugar un grupo es un conjunto $\\{e\\}$ de un elemento. La única\n",
    "operación binaria posible en $\\{e\\}$ está definida por\n",
    "$$e\\ast e=e.$$\n",
    "\n",
    "[Tabla](https://jamboard.google.com/d/12W9kficPzkB7qOg_pnWYghC5covcd-T_E9--ozQZe5g/viewer?f=5)\n",
    "\n",
    "Se puede corroborar que se cumplen los tres axiomas de grupo. En cada grupo, **el elemento\n",
    "identidad es siempre su propio inverso**.\n",
    "\n",
    "\n",
    "<div class = \"act\">\n",
    "Actividad: Magma, Monoide y otras cosas\n",
    "\n",
    "</div>\n",
    "\n",
    "---"
   ]
  },
  {
   "cell_type": "markdown",
   "id": "be27592e-c93c-4bc2-a231-d70c0a828718",
   "metadata": {},
   "source": [
    "### Ejemplos de grupo\n",
    "\n",
    "Para construir una estructura de grupo en un conjunto de dos elementos. Como uno de \n",
    "los elementos debe desempeñar el papel de identidad, entonces el conjunto queda como\n",
    "$\\{e,a\\}$. Se busca una tabla que dé una estructura de grupo. Cuando se da una tabla para una \n",
    "operación de grupo, siempre se colocara los elementos en la parte superior hacia la derecha,\n",
    "en el mismo orden en que se colocan del lado izquierdo hacia abajo, colocando en primer lugar \n",
    "la identidad.\n",
    "\n",
    "[Tabla](https://jamboard.google.com/d/12W9kficPzkB7qOg_pnWYghC5covcd-T_E9--ozQZe5g/viewer?f=6)"
   ]
  },
  {
   "cell_type": "markdown",
   "id": "ae0ea9e9-a3f0-4122-b2ea-0605a0f2d5f2",
   "metadata": {},
   "source": [
    "Supongamos que se tiene un conjunto con tres elementos. Como antes, podemos hacer el conjunto $\\{e,a,b\\}$; para que $e$ sea el elemento identidad de este conjunto. Una operación binaria debe tener la tabla\n",
    "\n",
    "[Tabla](https://jamboard.google.com/d/12W9kficPzkB7qOg_pnWYghC5covcd-T_E9--ozQZe5g/viewer?f=7)\n"
   ]
  },
  {
   "cell_type": "markdown",
   "id": "c8b11f57-a7f4-4918-a00b-df3b44976b51",
   "metadata": {},
   "source": [
    "Supogamos aora que $G'$ es cualquier otro grupo con tres elementos $G'=\\{e',a',b'\\}$ e imaginemos una tabla para $G'$ donde la identidad aparece en primer lugar. Debido a que se pudo llenar la tabla para $G=\\{e,a,b\\}$ de una sola mananera, vemos que $e$ juega el papel de $e'$, que $a$ el de $a'$ y $b$ el de $b'$, por lo que la tabla resulta ser la misma que la tabla de $G$. En otras palabras,las características *estructurales* son las mismas para ambos grupos; un grupo se verá exactamente igaul a otro con sólo cambiar el nombre a sus elementos. Por tanto, *calesquiera dos grupos de tres elementos son estructuralmente el mismo*. Esta es una intodución al concepto de **isomorfismo**. Los dos grupos $G$ y $G'$ son *isomorfos*. "
   ]
  },
  {
   "cell_type": "markdown",
   "id": "c5b253cf-0675-4b5a-aa9e-301d6ea709d9",
   "metadata": {},
   "source": [
    "En general no se usa el símbolo $\\ast$ para denotar una operación binaria diferente de la suma y la multiplicación usuales, que seguiremos llamando *suma* o *multiplicación*, dependiendo del símbolo usado.El símbolo para la suma será el usal $+$ y el de la multiplicación será la yuxtaposición de los factores sin punto, si no hay confución. Así, en lugar de la notación $a\\ast b$ usaremos ya sea $a+b$ o $ab$. Generalmente se usa $+$ para las operaciones conmutativas y para situaciones generales, usaremos la notación multiplicativa (yuxtaposición)."
   ]
  },
  {
   "cell_type": "markdown",
   "id": "b27b3e0b-cea0-4c2e-8e80-10bf36182c21",
   "metadata": {},
   "source": [
    "<div class='def'>\n",
    "<strong>$\\color{ForestGreen}{\\bf Definición}$</strong> <em>[Orden de un grupo]</em>\n",
    "<p>Si $G$ es un grupo finito, entonces el $\\color{red}{\\bf orden}$ $\\color{red}{|G|}$ de $G$ \n",
    "    es el número de elementos de $G$. En general, para cualquier conjunto finito $S$, $|S|$ es el número de elementos de $S$.\n",
    " </p>\n",
    "</div>"
   ]
  },
  {
   "cell_type": "markdown",
   "id": "c1d680d2-568b-41b0-86b9-960ab54daa75",
   "metadata": {},
   "source": [
    "<div class='def'>\n",
    "<strong>$\\color{ForestGreen}{\\bf Definición}$</strong> <em>[Subconjunto de un conjunto]</em>\n",
    "<p>Un conjunto $B$ es un $\\color{red}{\\bf subconjunto}$ $\\color{red}{\\bf de}$\n",
    "    $\\color{red}{\\bf un}$ $\\color{red}{\\bf conjunto}$ A denotado por $B\\subseteq A$ o $A\\supseteq B$\n",
    "    si cada elemento de $B$ está en $A$. Las notaciones $B\\subset A$ o $A\\supset B$ se usarán para \n",
    "    $B\\subseteq A$, pero $B\\neq A$.\n",
    " </p>\n",
    "</div>"
   ]
  },
  {
   "cell_type": "markdown",
   "id": "496ff29a-782b-4a61-be01-e16e5ba26dc8",
   "metadata": {},
   "source": [
    "Nótese que de acuerdo con esta definición, para cualquier conjunto $A$, $A$ y $\\emptyset$ son subconjuntos de $A$."
   ]
  },
  {
   "cell_type": "markdown",
   "id": "d3f78fbc-8bed-4235-8626-621a307e6004",
   "metadata": {},
   "source": [
    "<div class='def'>\n",
    "<strong>$\\color{ForestGreen}{\\bf Definición}$</strong> <em>[Subconjunto impropio y subconjunto propio]</em>\n",
    "<p>Si $A$ es cualquier conjunto, entonces $A$ es el $\\color{red}{\\bf subconjunto}$ $\\color{red}{\\bf impropio}$ \n",
    "    $\\color{red}{\\bf de}$ $A$. Cualquier otro subconjunto de $A$ es un $\\color{red}{\\bf subconjunto}$\n",
    "    $\\color{red}{\\bf propio}$ $\\color{red}{\\bf de}$ $A$.\n",
    " </p>\n",
    "</div>"
   ]
  },
  {
   "cell_type": "markdown",
   "id": "8555335c-2a4a-419b-8767-ec5c51c0870f",
   "metadata": {},
   "source": [
    "<div class='def'>\n",
    "<strong>$\\color{ForestGreen}{\\bf Definición}$</strong> <em>[Operación inducida]</em>\n",
    "<p>Sea $G$ un grupo y sea $S$ un subconjunto de $G$. Si para cada $a,b\\in S$es cierto que el producto $ab$\n",
    "    calculado en $G$ también está en $S$, entonces $S$ es $\\color{red}{\\bf cerrado}$ $\\color{red}{\\bf bajo}$\n",
    "    $\\color{red}{\\bf la}$ $\\color{red}{\\bf operación}$ $\\color{red}{\\bf de}$ $\\color{red}{\\bf grupo}$ de $G$. \n",
    "    La operación binaria en $S$, así definida, es la $\\color{red}{\\bf operación}$ $\\color{red}{\\bf inducida}$\n",
    "    $\\color{red}{\\bf en}$ $\\color{red}{S}$ $\\color{red}{\\bf desde}$ .$\\color{red}{G}$\n",
    "    </p>\n",
    "</div>"
   ]
  },
  {
   "cell_type": "markdown",
   "id": "add809ca-f614-4c5c-a5c9-194e4d5ad816",
   "metadata": {},
   "source": [
    "Se puede ahora precisar el concepto de grupo contenido en otro."
   ]
  },
  {
   "cell_type": "markdown",
   "id": "822d62db-28d2-4c8e-a3f3-9b63ac2359a1",
   "metadata": {},
   "source": [
    "## Subgrupos\n",
    "\n",
    "<div class='def'>\n",
    "<strong>$\\color{ForestGreen}{\\bf Definición}$</strong> <em>[Subgrupo]</em>\n",
    "<p>Si $H$ es un subconjunto de un grupo $G$ cerrado bajo la operación de grupo de $G$ y si $H$ es él mismo un grupo bajo esta operación inducida, entonces $H$ es un $\\color{red}{\\bf subgrupo}$ $\\color{red}{\\bf de}$ $G$. \n",
    "    Denotaremos por $H\\leq G$ o $G\\geq H$ el hecho de $H$ es un subgrupo de $G$, y $H&lt;G$ o $G&gt;H$ significará\n",
    "    que $H\\leq G$, pero $H\\neq G$.\n",
    " </p>\n",
    "</div>"
   ]
  },
  {
   "cell_type": "markdown",
   "id": "111b6c98-2028-4dd5-a12c-d1b510f61f28",
   "metadata": {},
   "source": [
    "Por ejemplo, es cierto que $\\big<\\mathbb {Z},+\\big> < \\big<\\mathbb {R},+\\big>$, \n",
    "pero $\\big<\\mathbb {Q}^+,\\cdot\\big>$ *no* es un subgrupo de $\\big<\\mathbb {R},+\\big>$ aunque sea cierto como conjuntos que \n",
    "$\\mathbb{Q}^+\\subset \\mathbb{R}$. Cada grupo $G$ tiene como subgrupos a $G$ mismo y $\\{e\\}$, donde $e$ es el \n",
    "elemento identidad de $G$.\n"
   ]
  },
  {
   "cell_type": "markdown",
   "id": "4b71aeff-b1a0-408a-8ee1-7621f35c67a7",
   "metadata": {},
   "source": [
    "<div class='def'>\n",
    "<strong>$\\color{ForestGreen}{\\bf Definición}$</strong> <em>[Subrupo impropio y subgrupo propio.]</em>\n",
    "<p> Si $G$ es un grupo, entonces $G$ es el $\\color{red}{\\bf subgrupo}$ $\\color{red}{\\bf impropio}$ \n",
    "    de $G$. Todos los otros subgrupos son $\\color{red}{\\bf subgrupos}$ $\\color{red}{\\bf propios}$.\n",
    "    Además, $\\{e\\}$ es el $\\color{red}{\\bf subgrupo}$ $\\color{red}{\\bf trivial}$ de $G$. Todos\n",
    "    los otros subgrupos son $\\color{red}{\\bf no}$ $\\color{red}{\\bf triviales}$.\n",
    " </p>\n",
    "</div>"
   ]
  },
  {
   "cell_type": "markdown",
   "id": "5b5af70b-48ba-42df-82ad-0e98155ed783",
   "metadata": {},
   "source": [
    "<div class=\"eje\">\n",
    "\n",
    "<strong>$\\color{Blue}{\\bf Ejemplo}$</strong>\n",
    "\n",
    "<p> $\\mathbb {Q}^+$ bajo la multiplicación es un subgrupo de $\\mathbb {R}^+$ bajo la multiplicación.\n",
    "</p>\n",
    "            \n",
    "</div>"
   ]
  },
  {
   "cell_type": "markdown",
   "id": "538aa728-a868-4674-9bbe-29dce09c9234",
   "metadata": {},
   "source": [
    "<div class=\"eje\">\n",
    "\n",
    "<strong>$\\color{Blue}{\\bf Ejemplo}$</strong>\n",
    "\n",
    "<p> Hay dos tipos de estructuras diferentes de grupos de orden 4. El grupo $V$ es el \n",
    "    $\\color{blue}{\\bf 4-grupo}$ $\\color{blue}{\\bf de}$ $\\color{blue}{\\bf Klein}$; la notación \n",
    "    proviene de la palabra alemana $\\color{blue}{\\it vier}$ $\\color{blue}{\\it gruppe}$.\n",
    "</p>\n",
    "            \n",
    "</div>\n",
    "\n",
    "[Solución](https://jamboard.google.com/d/12W9kficPzkB7qOg_pnWYghC5covcd-T_E9--ozQZe5g/viewer?f=7)\n",
    "\n",
    "Notación: El grupo $n\\mathbb{Z}=\\{\\dots, -2n,-n,0,n,2n,\\dots\\}$ bajo la suma $+$, \n",
    "$\\big<n\\mathbb{Z},+\\big>$.\n",
    "\n",
    "El grupo finito $\\mathbb{Z}_n=\\{0,1,2,3,\\dots,n-1\\}$ bajo la suma $+$,\n",
    "$\\big<\\mathbb{Z}_n,+\\big>$.\n",
    "\n",
    "\n",
    "### Sobre subgrupos"
   ]
  },
  {
   "cell_type": "markdown",
   "id": "864ad45d-d92e-4ba6-b108-8464315ba291",
   "metadata": {},
   "source": [
    "<div class='teo'>\n",
    "<strong>$\\color{Maroon}{\\bf Teorema}$</strong> <em>[Condición para un subgrupo]</em>\n",
    "<p> Un subconjunto $H$ de un conjunto $G$ es un subgrupo de $G$ si y sólo si\n",
    "\n",
    "1) $H$ es cerrado bajo la operación de $G$;\n",
    "\n",
    "2) la identidad $e$ de $G$ está en $H$;\n",
    "    \n",
    "3) para todos los $a\\in H$ es cierto que $a^{-1}\\in H$ también.\n",
    "\n",
    "</p>\n",
    "</div>\n",
    "\n",
    "[Demostración](https://jamboard.google.com/d/12W9kficPzkB7qOg_pnWYghC5covcd-T_E9--ozQZe5g/viewer?f=8)"
   ]
  },
  {
   "cell_type": "markdown",
   "id": "3d010d28-d988-4fff-b013-e0594ee7a864",
   "metadata": {},
   "source": [
    "Un subgrupo $G$ que contenga $a$ debe contener $aa$, que se denotará como $a^2$. Entonces debe contener $a^2a$, lo que se donota por $a^3$. En general, debe contener $a^n$ ( en notación aditiva es $na$). Un subgrupo que contenga al elemento $a$ debe contener $a^{-1}$ y por tanto $a^{-1}a^{-1}$, que se denotará como $a^{-2}$ y en general, debe contener a $a^{-m}$ con $m\\in \\mathbb{Z}^+$. Debe contener a la identidad $e=aa^{-1}$, que se denotará como $a^0=e$. Un subgrupo que contenga a $a$ debe contener $\\{a^n\\,|\\,n\\in \\mathbb{Z}\\}$. Las potencias de $a^n$ no necesariamente son distintas. Además se cumple la ley usual de los exponentes $a^na^m=a^{n+m}$ para $m,\\, n\\in \\mathbb{Z}$."
   ]
  },
  {
   "cell_type": "markdown",
   "id": "011f8031-3c8b-477d-9c2c-47cfc8c4fd2e",
   "metadata": {},
   "source": [
    "<div class='teo'>\n",
    "<strong>$\\color{Maroon}{\\bf Teorema}$</strong> <em>[Subgrupo cíclico]</em>\n",
    "<p>Sea $G$ un grupo y sea $a\\in G$. Entonces\n",
    "    $$H=\\{a^n\\, | \\,n\\in \\mathbb{Z}\\}$$\n",
    "    es un subgrupo de $G$ y es el menor subgrupo de $G$ que contiene a $a$, \n",
    "    esto es, a cada subgrupo que contiene a $a$ contiene $H$.\n",
    "</p>\n",
    "</div>\n",
    "\n",
    "[Demostración](https://jamboard.google.com/d/12W9kficPzkB7qOg_pnWYghC5covcd-T_E9--ozQZe5g/viewer?f=8)"
   ]
  },
  {
   "cell_type": "markdown",
   "id": "cfe4a52d-65d1-4520-8c72-9934bf682de8",
   "metadata": {},
   "source": [
    "## Grupo ciclico\n",
    "\n",
    "<div class='def'>\n",
    "<strong>$\\color{ForestGreen}{\\bf Definición}$</strong> <em>[Grupo cíclico ]</em>\n",
    "<p> Un elemento $a$ de un grupo $G$  $\\color{red}{\\bf genera}$ $G$ y es un  $\\color{red}{\\bf generador}$\n",
    "     $\\color{red}{\\bf de}$ $G$ si $\\big< a \\big> = G$. Un grupo $G$ es $\\color{red}{\\bf cíclico}$ si existe un elemento $a\\in G$ \n",
    "    que genere $G$.    \n",
    " </p>\n",
    "</div>"
   ]
  },
  {
   "cell_type": "markdown",
   "id": "348f3ec5-9693-44ed-b025-0c1d233b391e",
   "metadata": {},
   "source": [
    "Por ejemplo, $\\mathbb{Z}_4$ es cíclico y tanto $1$ como $3$ son generadosres, esto es\n",
    "$$\\big<1\\big>=\\big<3\\big>=\\mathbb{Z}_4$$."
   ]
  },
  {
   "cell_type": "markdown",
   "id": "7f442805-240b-4bb8-a9a0-4676ab386d8a",
   "metadata": {},
   "source": [
    "Sin embargo, $V$ *no* es cíclico pues $\\big<a\\big>$, $\\big<b\\big>$ y $\\big<c\\big>$ son subgrupos propios de dos elementos.\n",
    " Además, es claro que $\\big<e\\big>$ es el subgrupo trivial de un elemento."
   ]
  },
  {
   "cell_type": "markdown",
   "id": "96c9c5be-730d-4d70-bb3f-7404b36db434",
   "metadata": {},
   "source": [
    "El grupo $\\mathbb{Z}$ bajo la suma es en grupo cíclico. Tanto $1$ como $-1$ son generadores del grupo."
   ]
  },
  {
   "cell_type": "markdown",
   "id": "1590cfef-75d5-48a2-b712-5e5c15a40d39",
   "metadata": {},
   "source": [
    "<div class=\"eje\">\n",
    "\n",
    "<strong>$\\color{Blue}{\\bf Ejemplo}$</strong>\n",
    "\n",
    "<p> Considérese el grupo $\\mathbb{Z}$ bajo la suma y búsquese $\\big<3\\big>$. \n",
    "</p>\n",
    "            \n",
    "</div>\n",
    "\n",
    "[Solución](https://jamboard.google.com/d/12W9kficPzkB7qOg_pnWYghC5covcd-T_E9--ozQZe5g/viewer?f=9)"
   ]
  },
  {
   "cell_type": "markdown",
   "id": "9f2927e7-3995-4a69-8809-4953b6647c2a",
   "metadata": {},
   "source": [
    "Se trabajará ahora con grupos cuyos elementos son entes llamados *permutaciones*. Estos grupos proporcionan ejemplos de \n",
    "grupos que no son abelianos."
   ]
  },
  {
   "cell_type": "markdown",
   "id": "0e74c296-fd64-4e71-98d3-c495fb94a26e",
   "metadata": {},
   "source": [
    "<div class='def'>\n",
    "<strong>$\\color{ForestGreen}{\\bf Definición}$</strong> <em>[Permutación de un conjunto]</em>\n",
    "<p> Una $\\color{red}{\\bf permutación}$ $\\color{red}{\\bf de}$ $\\color{red}{\\bf un}$ $\\color{red}{\\bf conjunto}$ \n",
    "    $A$, es una función de $A$ en $A$ que es tanto uno a uno (inyectiva) como sobre (suprayectiva), es decir que sea \n",
    "    biyectiva. Si el conjunto\n",
    "    $A$ es finito, basta con que la función sea uno a uno (inyectiva).    \n",
    " </p>\n",
    "</div>"
   ]
  },
  {
   "cell_type": "markdown",
   "id": "fbd64fa8-78fb-4591-afaa-21f3d0a4a628",
   "metadata": {},
   "source": [
    "<div class=\"eje\">\n",
    "\n",
    "<strong>$\\color{Blue}{\\bf Ejemplo}$</strong>\n",
    "\n",
    "<p> Considere el conjunto $A=\\{1,2,3,4,5\\}$, se puede considerar dos permutciones $\\sigma$ y $\\tau$,\n",
    "    $$\\sigma,\\tau:A\\longrightarrow A$$\n",
    "    como\n",
    "</p>\n",
    "            \n",
    "</div>\n",
    "\n",
    "[Solución](https://jamboard.google.com/d/12W9kficPzkB7qOg_pnWYghC5covcd-T_E9--ozQZe5g/viewer?f=9)\n",
    "\n",
    "<div class = \"act\">\n",
    "    Actividad: Estructuras algebraicas\n",
    "</div>\n",
    "\n",
    "-------"
   ]
  },
  {
   "cell_type": "markdown",
   "id": "25adb560-8e9a-4c92-95d1-6274acbc7a38",
   "metadata": {},
   "source": [
    "En las permutaciones de un conjunto se define una operación binaria natural, la *multiplicación de permutaciones*. Sea $A$ un\n",
    "conjunto y sean $\\tau$ y $\\sigma$ dos permutaciones de $A$. La función compuesta $\\tau\\sigma$ es una función biyectiva ($\\tau\\circ\\sigma$) de $A$ en $A$ por lo que resulta ser una permutación de $A$. Se escriben\n",
    "las permutaciones\n",
    "\n",
    "[Solución](https://jamboard.google.com/d/12W9kficPzkB7qOg_pnWYghC5covcd-T_E9--ozQZe5g/viewer?f=10)"
   ]
  },
  {
   "cell_type": "markdown",
   "id": "e246d07a-5eb1-481c-b6ac-09abf9ad3e25",
   "metadata": {},
   "source": [
    "## Grupo de permutaciones\n",
    "\n",
    "<div class='teo'>\n",
    "<strong>$\\color{Maroon}{\\bf Teorema}$</strong> <em>[Grupo de permutaciones]</em>\n",
    "<p>Sea $A$ un conjunto no vacio y sea $S_A$ la familia de todas las permutaciones de $A$.\n",
    "     Entonces $S_A$ es un grupo bajo la multiplicación de permutaciones.\n",
    "</p>\n",
    "</div>\n",
    "\n",
    "[Demostración](https://jamboard.google.com/d/12W9kficPzkB7qOg_pnWYghC5covcd-T_E9--ozQZe5g/viewer?f=10)"
   ]
  },
  {
   "cell_type": "markdown",
   "id": "87bb5f61-72b6-4342-9000-5640198633af",
   "metadata": {},
   "source": [
    "<div class='def'>\n",
    "<strong>$\\color{red}{\\bf Definición}$</strong> <em>[Grupo simétrico.]</em>\n",
    "<p> Si $A$ es un conjunto, entonces el grupo de todas las permutaciones de $A$ es \n",
    "    el $\\color{red}{\\bf grupo}$ $\\color{red}{\\bf simétrico}$ $\\color{red}{\\bf de}$\n",
    "    $\\color{red}{n}$ $\\color{red}{\\bf letras}$ y se denota por $S_n$\n",
    " </p>\n",
    "</div>"
   ]
  },
  {
   "cell_type": "markdown",
   "id": "5bf48f36-c98a-4899-ad06-94c05b6bcc9f",
   "metadata": {},
   "source": [
    "Como observación $S_n$ tiene $n!$ elementos."
   ]
  },
  {
   "cell_type": "markdown",
   "id": "c1950ed4-d64f-4e8b-bbdd-e4124513ab8a",
   "metadata": {},
   "source": [
    "<div class=\"eje\">\n",
    "\n",
    "<strong>$\\color{Blue}{\\bf Ejemplo}$</strong>\n",
    "\n",
    "<p> Un ejemplo interesante es el grupo $S_3$ de $3!=6$ elementos. Sea\n",
    "    $A=\\{1,2,3\\}$. Lístense las permutaciones de $A$.\n",
    "    \n",
    "</p>\n",
    "            \n",
    "</div>\n",
    "\n",
    "[Solución](https://jamboard.google.com/d/12W9kficPzkB7qOg_pnWYghC5covcd-T_E9--ozQZe5g/viewer?f=11)"
   ]
  },
  {
   "cell_type": "markdown",
   "id": "1304f514-755c-42f5-b456-b95456332d81",
   "metadata": {},
   "source": [
    "El $\\color{red}{n}$-$\\color{red}{\\bf ésimo}$ $\\color{red}{\\bf grupo}$ \n",
    "$\\color{red}{\\bf diédrico}$ $D_n$, es el grupo\n",
    "de simetrías del $n$-ágono regular."
   ]
  },
  {
   "cell_type": "markdown",
   "id": "d7b7f08a-ad7f-4294-b959-66999d9304c6",
   "metadata": {},
   "source": [
    "<div class=\"eje\">\n",
    "\n",
    "<strong>$\\color{Blue}{\\bf Ejemplo}$</strong>\n",
    "\n",
    "<p> Fórmese el grupo diédrico $D_4$ de permutaciones, correspondientes a los modos en que se puedan superponerse dos copias de un cuadrado con vértices 1, 2, 3 y 4. $D_4$ será el \n",
    "    $\\color{red}{\\bf grupo}$ $\\color{red}{\\bf de}$ $\\color{red}{\\bf simetrías}$ $\\color{red}{\\bf del}$ \n",
    "    $\\color{red}{\\bf cuadrado}$. También se llama grupo octal. Se usará $\\rho_i$ para \n",
    "    $rotaciones$, $\\mu_i$ para $imágenes$ $reflejadas$ en bisectrices perpendiculares a los lados y \n",
    "    $\\delta_i$ para los reflejos en las $diagonales$.\n",
    "    \n",
    "</p>\n",
    "            \n",
    "</div>\n",
    "\n",
    "[Solución](https://jamboard.google.com/d/12W9kficPzkB7qOg_pnWYghC5covcd-T_E9--ozQZe5g/viewer?f=12)"
   ]
  },
  {
   "cell_type": "markdown",
   "id": "b9c2c169-b156-49a2-ad0b-1269be8013f8",
   "metadata": {},
   "source": [
    "Notación cíclica\n",
    "\n",
    "[Notación](https://jamboard.google.com/d/12W9kficPzkB7qOg_pnWYghC5covcd-T_E9--ozQZe5g/viewer?f=13)"
   ]
  },
  {
   "cell_type": "markdown",
   "id": "8f22c6e0-36b0-4cbf-8d4b-42f37bd0a39e",
   "metadata": {},
   "source": [
    "<div class='def'>\n",
    "<strong>$\\color{ForestGreen}{\\bf Definición}$</strong> <em>[Ciclo.]</em>\n",
    "<p> Una permutación $\\sigma$ de un conjunto $A$ es un $\\color{red}{\\bf ciclo}$ \n",
    "    $\\color{red}{\\bf de}$ $\\color{red}{\\bf longitud}$ $\\color{red}{n}$  \n",
    "    si existen $a_1,a_2,\\dots,a_n\\in A$ tales que\n",
    "    $$\\sigma(a_1)=a_2,\\sigma(a_2)=a_3,\\dots,\\sigma(a_{n-1})=a_n,\\sigma(a_n)=a_1$$\n",
    "    y $\\sigma(x)=x$ para toda $x\\in A$ tal que $x\\notin \\{a_1, a_2 ,\\dots,a_n\\}$. Escribimos\n",
    "    $\\sigma=(a_1,a_2,\\dots,a_n)$.\n",
    " </p>\n",
    "</div>"
   ]
  },
  {
   "cell_type": "markdown",
   "id": "e1b3ca05-82ee-412a-a9ff-eed1b91007e8",
   "metadata": {},
   "source": [
    "$\\color{Blue}{\\bf Ejemplo}$\n",
    "Si $A=\\{1,2,3,4,5\\}$, entonces\n",
    "\n",
    "$$(1,3,5,4)=\\left(\n",
    "\\begin{array}{ccccc}\n",
    "1 & 2 & 3 & 4 & 5 \\\\\n",
    "3 & 2 & 5 & 1 & 4 \\\\\n",
    "\\end{array}\n",
    "\\right)$$\n",
    "\n",
    "Observe que $(1,3,5,4)=(3,5,4,1)=(5,4,1,3)=(4,1,3,5)$"
   ]
  },
  {
   "cell_type": "markdown",
   "id": "178a5930-4b0d-4446-ab64-aaa675442c71",
   "metadata": {},
   "source": [
    "Ya que los ciclos son tipos particuares de permutaciones, pueden multiplicarse como cualesquiera dos permutaciones. Sin embargo, el producto de dos ciclos no necesariamente es ciclo."
   ]
  },
  {
   "cell_type": "markdown",
   "id": "34a4a1be-c69c-40f6-a8f8-6378a22a932e",
   "metadata": {},
   "source": [
    "<div class=\"eje\">\n",
    "\n",
    "<strong>$\\color{Blue}{\\bf Ejemplo}$</strong>\n",
    "\n",
    "<p> Sean $(1,4,5,6)$ y $(2,1,5)$ ciclos en el grupo $S_6$ de todas las permutaciones de $\\{1,2,3,4,5,6\\}$.\n",
    "    Encuentre $(1,4,5,6)(2,1,5)$ y $(2,1,5)(1,4,5,6)$.\n",
    "    \n",
    "</p>\n",
    "            \n",
    "</div>\n",
    "\n",
    "[Solución](https://jamboard.google.com/d/12W9kficPzkB7qOg_pnWYghC5covcd-T_E9--ozQZe5g/viewer?f=13)"
   ]
  },
  {
   "cell_type": "markdown",
   "id": "286ba565-4aac-4536-b5fc-3846b19e2f2d",
   "metadata": {},
   "source": [
    "En una colección de ciclos éstos son ${\\color{red}{\\bf ajenos}}$ cuando ningún elemento de $A$ aparece\n",
    "en las notaciones de dos ciclos diferentes de la colección.\n",
    "\n",
    "Por convención, cualquier ciclo de longitud 1 representa la permutación identidad."
   ]
  },
  {
   "cell_type": "markdown",
   "id": "1b544880-b559-4e76-b1e3-b7e14ab20032",
   "metadata": {},
   "source": [
    "<div class=\"eje\">\n",
    "\n",
    "<strong>$\\color{Blue}{\\bf Ejemplo}$</strong>\n",
    "\n",
    "<p> Considérese la permutción\n",
    "$$\\left(\n",
    "\\begin{array}{ccccc}\n",
    "1 & 2 & 3 & 4 & 5 & 6\\\\\n",
    "6 & 5 & 2 & 4 & 3 & 1\\\\\n",
    "\\end{array}\n",
    "\\right)$$    \n",
    " \n",
    " Escríbase como producto de ciclos ajenos.   \n",
    "</p>\n",
    "            \n",
    "</div>\n",
    "\n",
    "[Solución](https://jamboard.google.com/d/12W9kficPzkB7qOg_pnWYghC5covcd-T_E9--ozQZe5g/viewer?f=14)"
   ]
  },
  {
   "cell_type": "markdown",
   "id": "cf80db7b-f85b-4f98-b27a-c544aa1c8eb9",
   "metadata": {},
   "source": [
    "<div class='teo'>\n",
    "<strong>$\\color{Maroon}{\\bf Teorema}$</strong> \n",
    "<p>Cada permutación $\\sigma$ de un conjunto finito $A$ es producto de ciclos ajenos.\n",
    "</p>\n",
    "</div>\n",
    "\n",
    "[Demostración](https://jamboard.google.com/d/12W9kficPzkB7qOg_pnWYghC5covcd-T_E9--ozQZe5g/viewer?f=14)"
   ]
  },
  {
   "cell_type": "markdown",
   "id": "e844853b-69dc-40ed-93a9-9d0115f9978e",
   "metadata": {},
   "source": [
    "<div class='def'>\n",
    "<strong>$\\color{ForestGreen}{\\bf Definición}$</strong> <em>[Transposición.]</em>\n",
    "<p> Un ciclo de longitud 2 es una $\\color{red}{\\bf transposición}$. \n",
    " </p>\n",
    "</div>"
   ]
  },
  {
   "cell_type": "markdown",
   "id": "34a914ba-5d8e-4fc7-9984-ca3af3d4ae1b",
   "metadata": {},
   "source": [
    "De este modo, una transposición deja fijos todos los elementos excepto dos y lleva a cada uno\n",
    "de éstos en el otro. Un cálculo muestra que \n",
    "\n",
    "$$(a_1,a_2,\\dots,a_n)=(a_1,a_2)(a_1,a_3)\\cdots (a_1,a_n).$$\n",
    "\n",
    "Por lo que, cualquier ciclo es producto de transposiciones. Lo que lleva a decir que\n",
    "\n",
    "Cualquier permutación de un conjuto finito de al menos dos elementoses un producto de transposiciones."
   ]
  },
  {
   "cell_type": "markdown",
   "id": "831123c6-7aa9-4ab5-b1a1-52044f6cb449",
   "metadata": {},
   "source": [
    "Por ejemplo, $(2,5,3)(1,6)$ es el producto $(2,3)(2,5)(1,6)$ de transposiciones."
   ]
  },
  {
   "cell_type": "markdown",
   "id": "257c00e3-f798-4bf9-97c3-ae7645f70a67",
   "metadata": {},
   "source": [
    "Las transposiciones pueden no ser ajenas (como el ejemplo anterior) y no es única su representación, ya\n",
    "que siempre es posible insertar al principio la transposición $(a,b)(a,b)$ que es la permutación identidad. Lo cierto es que el número de transposiciones que se usan para representar una permutación debe ser siempre par o siempre impar.  "
   ]
  },
  {
   "cell_type": "markdown",
   "id": "e7c8f9ec-61d1-4aef-a765-345e48ee07d9",
   "metadata": {},
   "source": [
    "<div class='teo'>\n",
    "<strong>$\\color{Maroon}{\\bf Teorema}$</strong> \n",
    "<p>Ninguna permutación de un grupo finito puede expresarse como un producto de un número par de tranposiciones y como un producto de un número impar de transposiciones.\n",
    "</p>\n",
    "</div>\n",
    "\n",
    "[Demostración](https://jamboard.google.com/d/12W9kficPzkB7qOg_pnWYghC5covcd-T_E9--ozQZe5g/viewer?f=15)"
   ]
  },
  {
   "cell_type": "markdown",
   "id": "0a85f076-2aac-47f8-9547-792011a76137",
   "metadata": {},
   "source": [
    "El número de permutaciones pares en $S_n$ es igual al número de permutaciones impares; es decir; $S_n$ \n",
    "se descompone equitativamente y ambos números son $\\frac{n!}{2}$. Sea $A_n$ el conjunto de permutaciones pares en $S_n$ y sea $B_n$ el conjunto de permutaciones impares para $n\\geq 2$. \n",
    "Sea $\\tau $ una transposición fija de $S_n$. Se define la función \n",
    "$\\lambda_\\tau:A_n\\longrightarrow B_n$ donde para cualquier $\\sigma\\in A_n$ se tiene \n",
    "$\\lambda_\\tau(\\sigma)=\\tau\\sigma$. Como $\\sigma$ es par $\\tau\\sigma$ es una transposición impar, por tanto,\n",
    "está en $B_n$. Si para $\\sigma,\\mu\\in A_n$ sucede que $\\lambda_\\tau(\\sigma)=\\lambda_\\tau(\\mu)$, entonces\n",
    "$\\tau\\sigma=\\tau\\mu$, como $S_n$ es grupo, se tiene $\\sigma=\\tau$. Por tanto $\\lambda_\\tau$\n",
    "es uno a uno. Ahora bien, como $\\tau=\\tau^{-1}$, entonces si $\\rho\\in B_n$, se tiene que \n",
    "$\\tau^{-1}\\rho\\in A_n$ y $\\lambda_\\tau(\\tau^{-1}\\rho)=\\tau(\\tau^{-1}\\rho)=\\rho$. Por consiguiente, \n",
    "$\\lambda_\\tau$ es sobre $B_n$. Por tanto, $\\lambda_\\tau$ es una correspondencia biunívoca entre $A_n$\n",
    "y $B_n$. Así, $A_n$ y $B_n$ tienen el mismo número de elementos."
   ]
  },
  {
   "cell_type": "markdown",
   "id": "56598517-7d1f-4c32-a6f3-b37b1ec79780",
   "metadata": {},
   "source": [
    "<div class='teo'>\n",
    "<strong>$\\color{Maroon}{\\bf Teorema}$</strong> \n",
    "<p>Si $n\\geq 2$, la colección de todas las permutaciones pares de $\\{1,2,3,\\dots,n\\}$\n",
    "    forman un subgrupo de orden $n!/2$ del grupo simétrico $S_n$.\n",
    "</p>\n",
    "</div>\n",
    "\n",
    "[Demostración](https://jamboard.google.com/d/12W9kficPzkB7qOg_pnWYghC5covcd-T_E9--ozQZe5g/viewer?f=16)"
   ]
  },
  {
   "cell_type": "markdown",
   "id": "870a2dc6-dd91-47ae-9bf7-c2523309cedb",
   "metadata": {},
   "source": [
    "<div class='def'>\n",
    "<strong>$\\color{ForestGreen}{\\bf Definición}$</strong> <em>[Grupo Alternante.]</em>\n",
    "<p> El subgrupo de $S_n$ que consta de las permutaciones pares de $n$ letras es el \n",
    "    $\\color{red}{\\bf grupo}$ $\\color{red}{\\bf alternante}$ $\\color{red}{A_n}$ $\\color{red}{\\bf de}$ \n",
    "    $\\color{red}{n}$ $\\color{red}{\\bf letras}$. \n",
    " </p>\n",
    "</div>"
   ]
  },
  {
   "cell_type": "markdown",
   "id": "0aefbb9b-1cb3-42b5-9e87-9251d5255ff8",
   "metadata": {},
   "source": [
    "<div class='teo'>\n",
    "<strong>$\\color{Maroon}{\\bf Teorema}$</strong> \n",
    "<p>Todo grupo cíclico es abeliano.\n",
    "</p>\n",
    "</div>\n",
    "\n",
    "[Demostración](https://jamboard.google.com/d/12W9kficPzkB7qOg_pnWYghC5covcd-T_E9--ozQZe5g/viewer?f=16)"
   ]
  },
  {
   "cell_type": "markdown",
   "id": "387fc02e-e306-469d-a75a-f5467249f5cf",
   "metadata": {},
   "source": [
    "## Algoritmo de la división\n",
    "\n",
    "<div class='teo'>\n",
    "<strong>$\\color{Maroon}{\\bf Teorema}$</strong> <em>[Algoritmo de la división para $\\mathbb Z$.]</em>\n",
    "<p>Si $m$ es un entero positivo y $n$ es cualquier entero, entonces existen enteros únicos $q$ y $r$ \n",
    "    tales que  \n",
    "     $$n=mq+r\\quad{\\mbox{y}} \\quad 0\\leq r&lt;m.$$\n",
    "</p>\n",
    "</div>\n",
    "\n",
    "[Demostración](https://jamboard.google.com/d/12W9kficPzkB7qOg_pnWYghC5covcd-T_E9--ozQZe5g/viewer?f=16)"
   ]
  },
  {
   "cell_type": "markdown",
   "id": "8b7e4908-a13f-403d-8efe-cd0fc69869f8",
   "metadata": {},
   "source": [
    "<div class='teo'>\n",
    "<strong>$\\color{Maroon}{\\bf Teorema}$</strong> \n",
    "<p>Un subgrupo de un grupo cíclico es cíclico.\n",
    "</p>\n",
    "</div>\n",
    "\n",
    "[Demostración](https://jamboard.google.com/d/12W9kficPzkB7qOg_pnWYghC5covcd-T_E9--ozQZe5g/viewer?f=17)"
   ]
  },
  {
   "cell_type": "markdown",
   "id": "c7345a5f-0804-4161-b3ab-9ac911d3d9b1",
   "metadata": {},
   "source": [
    "Clasificación de grupos cíclicos.\n",
    "\n",
    "Sea $G$ un grupo cíclico con generador $a$, $G=\\big<a\\big>$. Se consideran dos casos.\n",
    "\n",
    "CASO 1 $\\hspace{.5 cm}$ $G$ tiene un número infinito de elementos, esto es, el orden de $G$ es infinito.\n",
    "\n",
    "[CASO 1](https://jamboard.google.com/d/12W9kficPzkB7qOg_pnWYghC5covcd-T_E9--ozQZe5g/viewer?f=17)"
   ]
  },
  {
   "cell_type": "markdown",
   "id": "e03ba855-1c6f-40b2-aa4e-2be18a22cb14",
   "metadata": {},
   "source": [
    "CASO 2 $\\hspace{.5 cm}$ $G$ tiene orden finito.\n",
    "\n",
    "[CASO 2](https://jamboard.google.com/d/12W9kficPzkB7qOg_pnWYghC5covcd-T_E9--ozQZe5g/viewer?f=18)"
   ]
  },
  {
   "cell_type": "markdown",
   "id": "e42dc23d-35d6-479b-84ed-524094e21275",
   "metadata": {},
   "source": [
    "Podra parecer extraño que $\\mathbb Z$ y $3\\mathbb Z$, grupos cíclicos infinitos bajo la suma, sean estructuralmente idénticos a pesar que $3\\mathbb Z<\\mathbb Z$. Los nombres no importan, y si al 1 se le\n",
    "nombra 3, al 2 se le nombra 6 y en general a $n$ se le nombra $3n$, se habrá convertido $\\mathbb Z$ en $3\\mathbb Z$ como grupo aditivo."
   ]
  },
  {
   "cell_type": "markdown",
   "id": "1b572c45-66a9-4bea-83cd-258925c8fbd0",
   "metadata": {},
   "source": [
    "Par un grupo cíclico finito de orden $n$, se puede imaginar a los elementos $e=a^0, a^1,a^2,\\dots, a^{n-1}$\n",
    "distribuidos equitativamente sobre una circunferencia. El elemento $e=a^0$ está localizado en la parte inferior y \n",
    "el elemento $a^k$ está localizado $h$ unidades iguales, medidas en sentido contrario al que giran las manecillas del reloj, desde $e=a^0$. Para multiplicar $a^h$ y $a^k$ mediante el diagrama, se comienza desde \n",
    "$a^h$ y se avanza, en el sentido contrario al que giran las manecillas del reloj, $k$ unidades más. Para ver en términos aritméticos dónde se termina, encuentre $q$ y $r$ (por el Algoritmo de la división) tales que\n",
    "\n",
    "$$h+k=nq+r\\quad {\\mbox para}\\quad 0\\leq r<n.$$\n",
    "\n",
    "El término $nq$ lleva $q$ veces alrededor del círculo hasta llegar a $a^r$.\n",
    "\n",
    "[Círculo](https://jamboard.google.com/d/12W9kficPzkB7qOg_pnWYghC5covcd-T_E9--ozQZe5g/viewer?f=18)"
   ]
  },
  {
   "cell_type": "markdown",
   "id": "8f2290e2-0283-46cc-bb39-390700076b54",
   "metadata": {},
   "source": [
    "<div class='def'>\n",
    "<strong>$\\color{red}{\\bf Definición}$</strong> <em>[Suma módulo $n$.]</em>\n",
    "<p> Sea $n$ un entero positivo fijo y sean $h$ y $k$ enteros cualesquiera. El número $r$ tal que \n",
    "    $$h+k=nq+r\\quad{\\mbox {con}}\\quad 0\\leq r&lt;n$$  \n",
    "    es la $\\color{red}{\\bf suma}$ $\\color{red}{\\bf de}$ $\\color{red}{h}$  $\\color{red}{\\bf y}$ \n",
    "    $\\color{red}{k}$ $\\color{red}{\\bf módulo}$ $\\color{red}{n}$. \n",
    "    Se denota como $$h+k\\equiv r {\\mbox {(mod$\\;n$)}}.$$\n",
    " </p>\n",
    "</div>"
   ]
  },
  {
   "cell_type": "markdown",
   "id": "ce517367-458b-4bf5-b646-de15c6326bff",
   "metadata": {},
   "source": [
    "Por ejemplo, en $\\mathbb Z_6=\\{0,1,2,3,4,5\\}$, se tiene \n",
    "$$ 2+3 \\equiv 5 \\; {\\mbox {(mod 6)}}\\; {\\mbox {ya que}}\\; 2+3=6(0)+5 \\; {\\mbox {con}}\\;\\;0\\leq 5 <6$$\n",
    "$$ 1+5 \\equiv 0 \\; {\\mbox {(mod 6)}}\\; {\\mbox {ya que}}\\; 1+5=6(1)+0 \\; {\\mbox {con}}\\;\\;0\\leq 0 <6$$\n",
    "$$ 4+3 \\equiv 1 \\; {\\mbox {(mod 6)}}\\; {\\mbox {ya que}}\\; 4+3=6(1)+1 \\; {\\mbox {con}}\\;\\;0\\leq 1 <6$$"
   ]
  },
  {
   "cell_type": "markdown",
   "id": "a9945ca4-ce8f-48a2-8347-4b6341e9f7c9",
   "metadata": {},
   "source": [
    "<div class='teo'>\n",
    "<strong>$\\color{Maroon}{\\bf Teorema}$</strong> \n",
    "<p>Sea $G$ un grupo cíclico con $n$ elementos generado por $a$. Sea $b\\in G$ y sea $b=a^s$.\n",
    "Entonces, $b$ genera un subgrupo cíclico $H$ de$G$ con $n/d$ elementos donde $d$ es el \n",
    "máximo común divisor (abreviado mcd) de $n$ y $s$.\n",
    "</p>\n",
    "</div>\n",
    "\n",
    "[Demostración](https://jamboard.google.com/d/12W9kficPzkB7qOg_pnWYghC5covcd-T_E9--ozQZe5g/viewer?f=19)"
   ]
  },
  {
   "cell_type": "markdown",
   "id": "8ad3d03d-a9e0-42da-819e-6f097a9bfb04",
   "metadata": {},
   "source": [
    "<div class=\"eje\">\n",
    "\n",
    "<strong>$\\color{Blue}{\\bf Ejemplo}$</strong>\n",
    "\n",
    "<p> Considérese $\\mathbb Z_{12}$ con generador $a=1$. Como el máximo común divisor (mcd) de 3 y 12 es 3,\n",
    "    3 genera un subgrupo de $\\frac{12}{3}=4$ elementos, a saber\n",
    "    $$\\big<3\\big>=\\{0,3,6,9\\}.$$\n",
    "    Como mcd(8,12)=4, 8 genera un sugrupo de $\\frac{12}{4}=3$ elementos, a saber\n",
    "    $$\\big<8\\big>=\\{0,4,8\\}.$$\n",
    "    Puesto que mcd(5,12)=1, 5 gener un subgrupo de $\\frac{12}{1}=12$ elementos, esto es, 5\n",
    "    es un genrador del TODO el grupo $\\mathbb Z_{12}$.\n",
    "</p>\n",
    "            \n",
    "</div>\n"
   ]
  },
  {
   "cell_type": "markdown",
   "id": "c0db02a6-6e59-458e-8c75-eafe39410bc5",
   "metadata": {},
   "source": [
    "El siguiente corolario es resultado inediato del teorema\n",
    "\n",
    "<div class='teo'>\n",
    "<strong>$\\color{Maroon}{\\bf Corolario}$</strong> \n",
    "<p>Si $a$ es un generador de un subgrupo cíclico finito $G$ de orden $n$, entonces, los otros generadores\n",
    "    de $G$ son los elementos de la forma $a^r$, donde $r$ y $n$ son $\\color{red}{\\bf primos}$ \n",
    "    $\\color{red}{\\bf relativos}$, esto es, donde el máximo común divisor de $r$ y$n$ es 1.\n",
    "</p>\n",
    "</div>"
   ]
  },
  {
   "cell_type": "markdown",
   "id": "644a1960-172c-4b55-b777-83dc8eff10d9",
   "metadata": {},
   "source": [
    "<div class=\"eje\">\n",
    "\n",
    "<strong>$\\color{Blue}{\\bf Ejemplo}$</strong>\n",
    "\n",
    "<p> Encuentre todos los subgrupos de $\\mathbb Z_{18}$ y elabore el correspondiente diagrama reticular.\n",
    "</p>\n",
    "            \n",
    "</div>\n",
    "\n",
    "[Solución](https://jamboard.google.com/d/12W9kficPzkB7qOg_pnWYghC5covcd-T_E9--ozQZe5g/viewer?f=19)"
   ]
  },
  {
   "cell_type": "markdown",
   "id": "1eb447ca-2678-4126-bca8-57236b27bcf4",
   "metadata": {},
   "source": [
    "## Isomorfismo\n",
    "\n",
    "<div class='def'>\n",
    "<strong>$\\color{red}{\\bf Definición}$</strong> <em>[Isomorfismo.]</em>\n",
    "<p> Un $\\color{red}{\\bf isomorfismo}$ $\\color{red}{\\bf entre}$ $\\color{red}{\\bf un}$ \n",
    "    $\\color{red}{\\bf grupo}$ $\\color{red}{G}$ $\\color{red}{\\bf y}$ $\\color{red}{\\bf un}$\n",
    "    $\\color{red}{\\bf grupo}$ $\\color{red}{G'}$ es una función $\\phi$ biyectiva, entre $G$ y $G'$,\n",
    "    tal que para todo $x$ y $y$ en $G$,\n",
    "    $$\\phi(xy)=\\phi (x)\\phi(y).$$\n",
    "    Los grupos son $\\color{red}{\\bf isomorfos}$ y se denotan como $G\\simeq G'$. \n",
    " </p>\n",
    "</div>\n",
    "\n",
    "Como observación, la operación $xy$ del miembro izquierdo en $\\phi(xy)=\\phi (x)\\phi(y)$ es la operación \n",
    "en $G$, mientras que $\\phi (x)\\phi(y)$ del lado derecho la operación en $G'$."
   ]
  },
  {
   "cell_type": "markdown",
   "id": "15ee917d-c722-4864-8a20-316fb8462fc4",
   "metadata": {},
   "source": [
    "<div class='teo'>\n",
    "<strong>$\\color{Maroon}{\\bf Teorema}$</strong> \n",
    "<p>Si $\\phi:G\\longrightarrow G'$ es un isomorfismo entre $G$ y $G'$ y $e$ es la identidad de $G$,\n",
    "    entonces $\\phi(e)$ es la identidad de $G'$. Además\n",
    "    $$\\phi(a^{-1})=(\\phi(a))^{-1}\\;\\; {\\mbox{para todas las}}\\;\\; a\\in G.$$\n",
    "    En resumen, un isomorfismo lleva la identidad a la identidad y los inversos a los inversos.\n",
    "</p>\n",
    "</div>\n",
    "\n",
    "[Demostración](https://jamboard.google.com/d/12W9kficPzkB7qOg_pnWYghC5covcd-T_E9--ozQZe5g/viewer?f=19)"
   ]
  },
  {
   "cell_type": "markdown",
   "id": "6171b3a9-f5b7-4129-825d-42d5aad1979e",
   "metadata": {},
   "source": [
    "Se dan unas directrices, para mostrar que dos grupos $G$ y $G'$ son **isomorfos**.\n",
    "\n",
    "**Paso 1** *Definir la función* $\\phi$ *que da el isomorfismo de* $G$ *con* $G'$. Esto significa describir,\n",
    "de alguna manera, cuál sería $\\phi (x)$ en $G'$ para toda $x\\in G$.\n",
    "\n",
    "**Paso 2** *Mostrar que* $\\phi$ *es una función inyectiva (uno a uno)*.\n",
    "\n",
    "**Paso 3** *Mostrar que* $\\phi$ *es una función suprayectiva (sobre)*.\n",
    "\n",
    "**Paso 4** *Mostrar que* $\\phi(xy)=\\phi(x)\\phi(y)$ *para todas las* $x,y\\in G$. Se calculan ambos lados de\n",
    "la ecuación y se ve si son iguales."
   ]
  },
  {
   "cell_type": "markdown",
   "id": "353c14e5-4a03-4091-b3b5-28a833942add",
   "metadata": {},
   "source": [
    "<div class=\"eje\">\n",
    "\n",
    "<strong>$\\color{Blue}{\\bf Ejemplo}$</strong>\n",
    "\n",
    "<p> Mostrar que $\\mathbb R$ bajo la suma es isomorfo a $\\mathbb R^+$ bajo la multiplicación.  \n",
    "</p>\n",
    "            \n",
    "</div>\n",
    "\n",
    "[Solución](a)"
   ]
  },
  {
   "cell_type": "markdown",
   "id": "e961668e-8d53-40c8-b7fd-f3f6c3a931ed",
   "metadata": {},
   "source": [
    "**Paso 1** Para $x\\in \\mathbb R$, se define $\\phi:{\\mathbb R}\n",
    "\\rightarrow {\\mathbb R^+}$  como $\\phi(x)=e^x$.\n",
    "\n",
    "**Paso 2** Si $\\phi(x)=\\phi(y)\\Rightarrow e^x=e^y\\Rightarrow x=y$. Así, $\\phi$ es inyectiva \n",
    "(uno a uno).\n",
    "\n",
    "**Paso 3** Si $r\\in {\\mathbb Z^+}$ entonces $\\ln(r)\\in {\\mathbb R}$, luego \n",
    "$\\phi(\\ln (r))=e^{\\ln(r)}=r$. Por tanto, $\\phi$ es suprayectiva (sobre) $\\mathbb R^+$.\n",
    "\n",
    "**Paso 4** Para $x,y\\in{\\mathbb R}$ se tiene\n",
    "$$\\phi(x+y)=e^{x+y}=e^xe^y=\\phi(x)\\phi(y).$$"
   ]
  },
  {
   "cell_type": "markdown",
   "id": "0398d204-b979-4c89-9cd9-3fd89adde733",
   "metadata": {},
   "source": [
    "<div class='teo'>\n",
    "<strong>$\\color{Maroon}{\\bf Teorema}$</strong> \n",
    "<p> Caualquier grupo cíclico infinito $G$ es isomorfo al grupo $\\mathbb Z$ de los enteros bajo la suma.\n",
    "</p>\n",
    "</div>\n",
    "\n",
    "[Demostración](https://jamboard.google.com/d/12W9kficPzkB7qOg_pnWYghC5covcd-T_E9--ozQZe5g/viewer?f=19)"
   ]
  },
  {
   "cell_type": "code",
   "execution_count": 1,
   "id": "987ba4a5-ddec-4db3-875a-f9da01c51bf1",
   "metadata": {},
   "outputs": [
    {
     "data": {
      "text/html": [
       "<link href='http://fonts.googleapis.com/css?family=Alegreya+Sans:100,300,400,500,700,800,900,100italic,300italic,400italic,500italic,700italic,800italic,900italic' rel='stylesheet' type='text/css'>\n",
       "<link href='http://fonts.googleapis.com/css?family=Arvo:400,700,400italic' rel='stylesheet' type='text/css'>\n",
       "<link href='http://fonts.googleapis.com/css?family=PT+Mono' rel='stylesheet' type='text/css'>\n",
       "<link href='http://fonts.googleapis.com/css?family=Shadows+Into+Light' rel='stylesheet' type='text/css'>\n",
       "<link href='http://fonts.googleapis.com/css?family=Nixie+One' rel='stylesheet' type='text/css'>\n",
       "<link href='https://fonts.googleapis.com/css?family=Source+Code+Pro' rel='stylesheet' type='text/css'>\n",
       "<style>\n",
       "\n",
       "@font-face {\n",
       "    font-family: \"Computer Modern\";\n",
       "    src: url('http://mirrors.ctan.org/fonts/cm-unicode/fonts/otf/cmunss.otf');\n",
       "}\n",
       "\n",
       "\n",
       "\n",
       "  /*                       vvvv changed from 14px  */\n",
       "  --jp-content-font-size1: 16px; /* Base font size */\n",
       "\n",
       "  /*                        vvvv inserted at the front  */\n",
       "  --jp-content-font-family: 'M+ 2p', -apple-system, BlinkMacSystemFont, 'Segoe UI';\n",
       "\n",
       "#notebook_panel { /* main background */\n",
       "    background: rgb(255,255,255);/*rgb(245,245,245);*/\n",
       "}\n",
       "\n",
       "div.cell { /* set cell width */\n",
       "    background: rgb(255,255,255);\n",
       "    width: 1000px;/* 850 */\n",
       "    margin-left:auto;\n",
       "    margin-right:auto;\n",
       "\n",
       "}\n",
       "\n",
       "div #notebook { /* centre the content */\n",
       "    background: rgb(255,255,255); /*#fff; white background for content */\n",
       "    width: 1150px;\n",
       "    margin: auto;\n",
       "    margin-left:auto;\n",
       "    margin-right:auto;\n",
       "\n",
       "}\n",
       "\n",
       "#notebook li { /* More space between bullet points */\n",
       "    margin-top:0.8em;\n",
       "}\n",
       "\n",
       "/* draw border around running cells */\n",
       "div.cell.border-box-sizing.code_cell.running { \n",
       "    border: 1px solid #111;\n",
       "}\n",
       "\n",
       "/* Put a solid color box around each cell and its output, visually linking them*/\n",
       "div.cell.code_cell {\n",
       "    background-color: rgb(255,255,255);/*rgb(256,256,256);*/ \n",
       "    border-radius: 0px; \n",
       "    padding: 2em;\n",
       "    margin-left:2em;\n",
       "    margin-top: 2em;\n",
       "    margin-bottom: 2em;\n",
       "    margin-left:auto;\n",
       "    margin-right:auto;\n",
       "    width:1000px;\n",
       "\n",
       "}\n",
       "\n",
       "div.jp-RenderedMarkdown{\n",
       "    font-family: 'Alegreya Sans' sans-serif;\n",
       "    line-height: 140%;\n",
       "    font-size: 130%;\n",
       "    font-weight: 400;\n",
       "    width:850px;\n",
       "    margin-left:auto;\n",
       "    margin-right:auto;\n",
       "    padding-left: 0px;\n",
       "}\n",
       "\n",
       "\n",
       "/* Formatting for header cells */\n",
       ".jp-RenderedMarkdown h1 {\n",
       "    font-family: 'Nixie One', serif;\n",
       "    font-style:regular;\n",
       "    font-weight: 400;    \n",
       "    font-size: 30pt;\n",
       "    line-height: 100%;\n",
       "    color: rgb(0,51,102);\n",
       "    margin-bottom: 0.5em;\n",
       "    margin-top: 0.5em;\n",
       "    display: block;\n",
       "}\n",
       "\n",
       ".jp-RenderedMarkdown h2 {\n",
       "    font-family: 'Nixie One', serif;\n",
       "    font-weight: 400;\n",
       "    font-size: 25pt;\n",
       "    line-height: 100%;\n",
       "    color: rgb(0,51,102);\n",
       "    margin-bottom: 0.1em;\n",
       "    margin-top: 0.3em;\n",
       "    display: block;\n",
       "}\t\n",
       "\n",
       ".jp-RenderedMarkdown h3 {\n",
       "    font-family: 'Nixie One', serif;\n",
       "    margin-top:16px;\n",
       "    font-size: 22pt;\n",
       "    font-weight: 600;\n",
       "    margin-bottom: 3px;\n",
       "    font-style: regular;\n",
       "    color: rgb(102,102,0);\n",
       "}\n",
       "\n",
       ".jp-RenderedMarkdown h4 {    /*Use this for captions*/\n",
       "    font-family: 'Nixie One', serif;\n",
       "    font-size: 14pt;\n",
       "    text-align: center;\n",
       "    margin-top: 0em;\n",
       "    margin-bottom: 2em;\n",
       "    font-style: regular;\n",
       "}\n",
       "\n",
       ".jp-RenderedMarkdown h5 {  /*Use this for small titles*/\n",
       "    font-family: 'Nixie One', sans-serif;\n",
       "    font-weight: 400;\n",
       "    font-size: 16pt;\n",
       "    color: rgb(163,0,0);\n",
       "    font-style: italic;\n",
       "    margin-bottom: .1em;\n",
       "    margin-top: 0.8em;\n",
       "    display: block;\n",
       "}\n",
       "\n",
       ".jp-RenderedMarkdown h6 { /*use this for copyright note*/\n",
       "    font-family: 'PT Mono', sans-serif;\n",
       "    font-weight: 300;\n",
       "    font-size: 9pt;\n",
       "    line-height: 100%;\n",
       "    color: grey;\n",
       "    margin-bottom: 1px;\n",
       "    margin-top: 1px;\n",
       "}\n",
       "\n",
       ".CodeMirror{\n",
       "    font-family: \"Source Code Pro\";\n",
       "    font-size: 90%;\n",
       "}\n",
       "\n",
       ".alert-box {\n",
       "    padding:10px 10px 10px 36px;\n",
       "    margin:5px;\n",
       "}\n",
       "\n",
       ".success {\n",
       "    color:#666600;\n",
       "    background:rgb(240,242,229);\n",
       "}\n",
       "\n",
       "\n",
       ".def {\t\n",
       "    border-style:solid;\n",
       "    border-width:4px;\n",
       "    /*-webkit-border-radius:15px;*/\n",
       "    border-radius: 1em;\n",
       "    border-color:rgba(102,194,163,0.9);/**  #366272;#CD853F;/**rgba(112, 156, 169, 0.66);*/\n",
       "    /*background: #366272;rgba(54, 98, 114, 0.9);/*#366272;*/\n",
       "\t/*border-top-left-radius:10%;*/\n",
       "\tcolor:black;\n",
       "\tfont-size: 1em;\n",
       "\t/*box-shadow: 10px 10px 10px #2178a3;*/\n",
       "\t/*overflow:scroll;*/\n",
       "\tpadding: 2% 4% 2% 4%;\n",
       "\tbox-sizing: border-box;\n",
       "\twidth:80%;\n",
       "    margin-left:auto;\n",
       "    margin-right:auto;\n",
       "    margin-bottom:2%;\n",
       "    margin-top:2%; \n",
       "    font-size: 1.0em;\n",
       "\tline-height: 1.6;\n",
       "\tfont-weight: 300;\n",
       "    background:rgba(102,194,163,0.2);/*1(0.40000000596046448, 0.7607843279838562, 0.64705884456634521)*/\n",
       "}\n",
       "\n",
       "\n",
       "\n",
       "\n",
       "\n",
       "\n",
       ".act {\t\n",
       "    border-style:solid;\n",
       "    border-width:4px;\n",
       "    /*-webkit-border-radius:15px;*/\n",
       "\tborder-radius: 1em;\n",
       "    border-color:rgb(255, 51, 255,0.9);/**  #366272;#CD853F;/**rgba(112, 156, 169, 0.66);*/\n",
       "    /*background: #366272;rgba(54, 98, 114, 0.9);/*#366272;*/\n",
       "\t/*border-top-left-radius:10%;*/\n",
       "\tcolor:black;\n",
       "\tfont-size: 1em;\n",
       "\t/*box-shadow: 10px 10px 10px #2178a3;*/\n",
       "\t/*overflow:scroll;*/\n",
       "\tpadding: 2% 4% 2% 4%;\n",
       "\tbox-sizing: border-box;\n",
       "\twidth:80%;\n",
       "    margin-left:auto;\n",
       "    margin-right:auto;\n",
       "    margin-bottom:2%;\n",
       "    margin-top:2%; \n",
       "    font-size: 1.0em;\n",
       "\tline-height: 1.6;\n",
       "\tfont-weight: 300;\n",
       "    background:rgba(255, 51, 255,0.2);/*1(0.40000000596046448, 0.7607843279838562, 0.64705884456634521)*/\n",
       "}\n",
       "\n",
       "\n",
       "\n",
       ".teo {\t\n",
       "    border-style:solid;\n",
       "    border-width:4px;\n",
       "    /*-webkit-border-radius:15px;*/\n",
       "\tborder-radius: 1em;\n",
       "    border-color:rgb(250, 187, 81,0.9);/**  #366272;#CD853F;/**rgba(112, 156, 169, 0.66);*/\n",
       "    /*background: #366272;rgba(54, 98, 114, 0.9);/*#366272;*/\n",
       "\t/*border-top-left-radius:10%;*/\n",
       "\tcolor:black;\n",
       "\tfont-size: 1em;\n",
       "\t/*box-shadow: 10px 10px 10px #2178a3;*/\n",
       "\t/*overflow:scroll;*/\n",
       "\tpadding: 2% 4% 2% 4%;\n",
       "\tbox-sizing: border-box;\n",
       "\twidth:80%;\n",
       "    margin-left:auto;\n",
       "    margin-right:auto;\n",
       "    margin-bottom:2%;\n",
       "    margin-top:2%; \n",
       "    font-size: 1.0em;\n",
       "\tline-height: 1.6;\n",
       "\tfont-weight: 300;\n",
       "    background:rgba(250, 187, 81,0.2);/*1(0.40000000596046448, 0.7607843279838562, 0.64705884456634521)*/\n",
       "}\n",
       "\n",
       "\n",
       ".eje {\t\n",
       "    border-style:solid;\n",
       "    border-width:4px;\n",
       "    /*-webkit-border-radius:15px;*/\n",
       "\tborder-radius: 1em;\n",
       "    border-color: rgba(200, 227, 212,0.9); /*rgba(249,140,97,0.9);#CD853F ; #366272*#CD853F;/**rgba(112, 156, 169, 0.66);*/\n",
       "    /*background: #366272;rgba(54, 98, 114, 0.9);/*#366272;*/\n",
       "\t/*border-top-left-radius:10%;*/\n",
       "\tcolor:black;\n",
       "\tfont-size: 1em;\n",
       "\t/*box-shadow: 10px 10px 10px #2178a3;*/\n",
       "\t/*overflow:scroll;*/\n",
       "\tpadding: 2% 4% 2% 4%;\n",
       "\tbox-sizing: border-box;\n",
       "\twidth:95%;\n",
       "    margin-left:auto;\n",
       "    margin-right:auto;\n",
       "    margin-bottom:2%;\n",
       "    margin-top:2%; \n",
       "    background: rgba(200, 227, 212,0.2);  /*rgba(249,140,97,0.2) /*2(0.98131487965583808, 0.55538641635109398, 0.38740485135246722)*/\n",
       "}\n",
       "\n",
       "\n",
       ".problemas {\t\n",
       "    border-style:solid;\n",
       "    border-width:4px;\n",
       "    /*-webkit-border-radius:15px;*/\n",
       "\tborder-radius: 1em;\n",
       "    border-color:rgba(0, 121, 53);/**  #366272;#CD853F;/**rgba(112, 156, 169, 0.66);*/\n",
       "    /*background: #366272;rgba(54, 98, 114, 0.9);/*#366272;*/\n",
       "\t/*border-top-left-radius:10%;*/\n",
       "\tcolor:black;\n",
       "\tfont-size: 1em;\n",
       "\t/*box-shadow: 10px 10px 10px #2178a3;*/\n",
       "\t/*overflow:scroll;*/\n",
       "\tpadding: 2% 4% 2% 4%;\n",
       "\tbox-sizing: border-box;\n",
       "\twidth:95%;\n",
       "    margin-left:auto;\n",
       "    margin-right:auto;\n",
       "    margin-bottom:2%;\n",
       "    margin-top:2%; \n",
       "    background:rgba(0, 121, 53, 0.3);/*3(0.55432528607985565, 0.62711267120697922, 0.79595541393055635)*/\n",
       "}\n",
       "\n",
       "\n",
       "\n",
       ".jp-RenderedMarkdown {\n",
       "\tfont-size: 1.2em;\n",
       "\tline-height: 1.6;\n",
       "\tfont-weight: 300;\n",
       "\ttext-align: justify;\n",
       "    color: gray;\n",
       "}\n",
       "\n",
       "\n",
       "\n",
       ".jp-RenderedMarkdown p {\n",
       "\tfont-size: 1.0em;\n",
       "\tline-height: 1.6;\n",
       "\tfont-weight: 300;\n",
       "\ttext-align: justify;\n",
       "    color: gray;\n",
       "}\n",
       "\n",
       "div pre\n",
       "{\n",
       "    color: red;\n",
       "    padding: 0.5em;\n",
       "    /*margin-left:1em;\n",
       "    margin-top: 1em;*/\n",
       "    margin-left:auto;\n",
       "    margin-right:auto;\n",
       "    }\n",
       "\n",
       "\n",
       ".polaroid {\n",
       "  width: 80%;\n",
       "  background-color: white;\n",
       "  box-shadow: 0 4px 8px 0 rgba(0, 0, 0, 0.2), 0 6px 20px 0 rgba(0, 0, 0, 0.19);\n",
       "  margin-bottom: 25px;\n",
       "    margin-left:auto;\n",
       "    margin-right:auto;\n",
       "    margin-top:2%;\n",
       "}\n",
       "\n",
       ".despolaroid p{\n",
       "  text-align: center;\n",
       "  padding: 10px 20px;\n",
       "    margin-left:auto;\n",
       "    margin-right:auto;\n",
       "    font-size: 0.8em;\n",
       "\tline-height: 1;\n",
       "\tfont-weight: 200;\n",
       "\n",
       "}\n",
       "\n",
       "\n",
       ".jp-RenderedMarkdown img {\n",
       "    display: block;\n",
       "    margin: auto;\n",
       "    width: 70%;\n",
       "    border-bottom: 4px solid #ddd;\n",
       "    padding: 5px;\n",
       "}\n",
       "\n",
       "\n",
       "</style>\n",
       "<script>\n",
       "    MathJax.Hub.Config({\n",
       "                        TeX: {\n",
       "                           extensions: [\"AMSmath.js\"],\n",
       "                           equationNumbers: { autoNumber: \"AMS\", useLabelIds: true}\n",
       "                           },\n",
       "                tex2jax: {\n",
       "                    inlineMath: [ ['$','$'], [\"\\\\(\",\"\\\\)\"] ],\n",
       "                    displayMath: [ ['$$','$$'], [\"\\\\[\",\"\\\\]\"] ]\n",
       "                },\n",
       "                displayAlign: 'center', // Change this to 'center' to center equations.\n",
       "                \"HTML-CSS\": {\n",
       "                    styles: {'.MathJax_Display': {\"margin\": 4}}\n",
       "                }\n",
       "});\n",
       "</script>"
      ],
      "text/plain": [
       "<IPython.core.display.HTML object>"
      ]
     },
     "execution_count": 1,
     "metadata": {},
     "output_type": "execute_result"
    }
   ],
   "source": [
    "from IPython.core.display import HTML\n",
    "css_file = 'css/estilo1.css'\n",
    "HTML(open(css_file, \"r\").read())"
   ]
  }
 ],
 "metadata": {
  "kernelspec": {
   "display_name": "Python 3 (ipykernel)",
   "language": "python",
   "name": "python3"
  },
  "language_info": {
   "codemirror_mode": {
    "name": "ipython",
    "version": 3
   },
   "file_extension": ".py",
   "mimetype": "text/x-python",
   "name": "python",
   "nbconvert_exporter": "python",
   "pygments_lexer": "ipython3",
   "version": "3.8.5"
  }
 },
 "nbformat": 4,
 "nbformat_minor": 5
}
